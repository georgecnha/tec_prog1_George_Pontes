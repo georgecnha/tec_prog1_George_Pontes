{
 "cells": [
  {
   "cell_type": "markdown",
   "metadata": {
    "id": "dDhJSUbSE6hI"
   },
   "source": [
    "# Lista de Exercícios de Numpy\n",
    "\n",
    "Deverá ser entregue até **11/02/2023** por meio do github que foi informado por vocês no [formulário](https://forms.office.com/r/YV12vEXGYF) respondido na aula de 01/02.\n",
    "\n",
    "A entrega pela github é parte da avaliação."
   ]
  },
  {
   "cell_type": "code",
   "execution_count": 1,
   "metadata": {},
   "outputs": [],
   "source": [
    "import numpy as np"
   ]
  },
  {
   "cell_type": "markdown",
   "metadata": {
    "id": "eX5x6-bjE6hN"
   },
   "source": [
    "## Questão 1\n",
    "\n",
    "Crie um array 100 com valores aleatórios e ache os valores máximo e mínimo"
   ]
  },
  {
   "cell_type": "code",
   "execution_count": 2,
   "metadata": {
    "id": "kYKS_ae1E6hP"
   },
   "outputs": [
    {
     "data": {
      "text/plain": [
       "array([ 44,  54,   7,  97,  21,  38,  10,  63,  47,  45,  67,  97,  74,\n",
       "        77,  27,  96, 100,  19, 100,   3,  59,  41,   6,  68,  31,  28,\n",
       "        26,  33,  94,   8,  45, 100,  57,  47,  47,   5,  52,  10,   2,\n",
       "        46,  63,  75,  99,  83,  32,  88,  34,  69,  68,  49,  70,  16,\n",
       "        87,   9,   7,  53,  72,  10,  67,  94,  55,  52,  83,  42,  19,\n",
       "        47,  50,   5,  49,  20,  80,  77,  40,  23,  99,  33,  10,  23,\n",
       "        45,  89,  74,   2,  44,  44,  46,  88,  95,  67,  52,  23,  47,\n",
       "        39,  20,  97,  13,  66,  47,  53,  82,  75])"
      ]
     },
     "execution_count": 2,
     "metadata": {},
     "output_type": "execute_result"
    }
   ],
   "source": [
    "a= np.random.randint(1,101,100)\n",
    "a"
   ]
  },
  {
   "cell_type": "code",
   "execution_count": 3,
   "metadata": {},
   "outputs": [
    {
     "data": {
      "text/plain": [
       "100"
      ]
     },
     "execution_count": 3,
     "metadata": {},
     "output_type": "execute_result"
    }
   ],
   "source": [
    "a.max()"
   ]
  },
  {
   "cell_type": "code",
   "execution_count": 4,
   "metadata": {},
   "outputs": [
    {
     "data": {
      "text/plain": [
       "2"
      ]
     },
     "execution_count": 4,
     "metadata": {},
     "output_type": "execute_result"
    }
   ],
   "source": [
    "a.min()"
   ]
  },
  {
   "cell_type": "markdown",
   "metadata": {
    "id": "qT9pSHp4E6hQ"
   },
   "source": [
    "## Questão 2\n",
    "Em Geometria Analítica, um **vetor** é uma quantidade que pode ser definida por um énuplo (uma sequência ordenada de *n* elementos) em que cada elemento representa a intensidade do vetor na direção especificada pela i-ésima componente desta sequência. \n",
    "\n",
    "Quando pensamos em duas dimensões, por exemplo, o vetor $R = (b,a)$ define, geometricamente, a entidade representada na figura abaixo, com componentes nos eixos x e y usuais.\n",
    "\n",
    "<img src = \"https://static.todamateria.com.br/upload/im/ag/image-721.jpg?auto_optimize=low\" />\n",
    "\n",
    "O **módulo** deste vetor, também chamado de intensidade, está geometricamente relacionado ao seu comprimento, e pode ser calculado diretamente pelas suas componentes, por meio de uma operação conhecida como **produto escalar** do vetor com ele mesmo. O módulo quadrático é expresso, desta forma, por:\n",
    "\n",
    "$|A|^2 = \\vec{A} \\cdot \\vec{A}$\n",
    "\n",
    "Por outro lado, o produto escalar entre dois vetores $A = (a_{x}, a_{y})$ e $B = (b_{x}, b_{y})$ é dado por:\n",
    "\n",
    "$\\vec{A} \\cdot \\vec{B} = a_{x} \\times b_{x} + a_{y} \\times b_{y}$ (e esta definição vale para qualquer que seja a dimensão do vetor).\n",
    "\n",
    "O módulo quadrático de um vetor é, portanto:\n",
    "\n",
    "$|A|² = a_{x}^2 + b_{x}^2$."
   ]
  },
  {
   "cell_type": "markdown",
   "metadata": {
    "id": "-ZU6W86sE6hT"
   },
   "source": [
    "Dado o exposto acima, escreva uma função que retorne o módulo de um vetor n-dimensional qualquer."
   ]
  },
  {
   "cell_type": "code",
   "execution_count": 5,
   "metadata": {
    "id": "PdKKKvShE6hT"
   },
   "outputs": [],
   "source": [
    "def modulo(a):\n",
    "    import numpy as np\n",
    "    somaquad=0\n",
    "    for i in a:\n",
    "        somaquad+=(i*i)\n",
    "    modulo=(somaquad)**(1/2)\n",
    "    return (modulo)\n",
    "    \n",
    "    "
   ]
  },
  {
   "cell_type": "code",
   "execution_count": 6,
   "metadata": {},
   "outputs": [
    {
     "data": {
      "text/plain": [
       "3.7416573867739413"
      ]
     },
     "execution_count": 6,
     "metadata": {},
     "output_type": "execute_result"
    }
   ],
   "source": [
    "import numpy as np\n",
    "a = np.array ([1,2,3])\n",
    "\n",
    "modulo(a)"
   ]
  },
  {
   "cell_type": "markdown",
   "metadata": {
    "id": "CRZdfzLgE6hU"
   },
   "source": [
    "## Questão 3\n",
    "\n",
    "Em uma **análise de regressão**, usualmente estamos interessados em descrever relações entre variáveis de um dado conjunto de dados por meio de uma **função** que descreva, o tanto quanto possível, estas relações.\n",
    "\n",
    "Por exemplo, no gráfico abaixo, os pontos vermelhos relacionam as medidas das duas variáveis sendo avaliadas (nos eixos x e y); e a linha azul aproxima a relação entre elas por uma função linear."
   ]
  },
  {
   "cell_type": "markdown",
   "metadata": {
    "id": "180Vp7AZE6hV"
   },
   "source": [
    "![Normdist_regression.png](https://miro.medium.com/v2/resize:fit:786/format:webp/1*LEmBCYAttxS6uI6rEyPLMQ.png)"
   ]
  },
  {
   "cell_type": "markdown",
   "metadata": {
    "id": "oQ1RFXOAE6hV"
   },
   "source": [
    "É possível ver que nem todos os pontos obedecem exatamente à relação ditada pela reta (isto é, há pontos que não estão exatamente \"sobre a reta\"; mas, sim, ligeraimente acima, ou abaixo, dela). Isto, contudo, é esperado em um modelo de regressão, por inúmeras fontes de incerteza associadas às medições."
   ]
  },
  {
   "cell_type": "markdown",
   "metadata": {
    "id": "XGWoc_O2E6hW"
   },
   "source": [
    "Uma das métricas que utilizamos para avaliar a qualidade de uma regressão é o **erro quadrático médio (EQM)**, que mensura a diferença total entre cada predição da regressão ($y_{prediction}$; que no nosso caso seriam os valores de y para a reta azul) com o valor real de cada i-ésima medida ($y_{i}$; que no nosso caso seriam as coordenadas y para cada ponto vermelho do gráfico). O EQM pode ser definido como:"
   ]
  },
  {
   "cell_type": "markdown",
   "metadata": {
    "id": "CjgOdTD6E6hX"
   },
   "source": [
    "$EQM = \\frac{1}{n}\\sum_{i=1}^{n}(y_{prediction} - y_{i})^2$."
   ]
  },
  {
   "cell_type": "markdown",
   "metadata": {
    "id": "qeXCrbmbE6hY"
   },
   "source": [
    "Isto posto, escreva uma função que calcule o EQM recebendo, como entrada, os vetores $y_{prediction}$ e $y_{i}$. Por exemplo, digamos que sua função se chame *calculate_eqm*, ela deve operar da seguinte forma:"
   ]
  },
  {
   "cell_type": "markdown",
   "metadata": {},
   "source": [
    "```python\n",
    "# dados dois arrays quaisquer de mesmo tamanho, a função deve retornar o EQM\n",
    "y_prediction = np.array([1,2,3])\n",
    "y_i = np.array([0,0,3])\n",
    "calculate_eqm(y_prediction,y_i)\n",
    "```\n",
    "\n",
    "`1.6666666666666665`\n"
   ]
  },
  {
   "cell_type": "code",
   "execution_count": 7,
   "metadata": {
    "id": "bwiTGuuoE6hb"
   },
   "outputs": [],
   "source": [
    "# Solução\n",
    "\n",
    "def calculate_eqm(yp, yi):\n",
    "    import numpy as np\n",
    "    soma= (yp-yi)\n",
    "    somaquad= (soma).dot(soma)\n",
    "    somatorio= somaquad.sum()\n",
    "    eqm=(somatorio/(soma.size))\n",
    "    return(eqm)    "
   ]
  },
  {
   "cell_type": "code",
   "execution_count": 8,
   "metadata": {},
   "outputs": [
    {
     "data": {
      "text/plain": [
       "1.6666666666666667"
      ]
     },
     "execution_count": 8,
     "metadata": {},
     "output_type": "execute_result"
    }
   ],
   "source": [
    "y_prediction = np.array([1,2,3])\n",
    "y_i = np.array([0,0,3])\n",
    "calculate_eqm(y_prediction,y_i)"
   ]
  },
  {
   "cell_type": "markdown",
   "metadata": {
    "id": "Wh0_a8PjE6hc"
   },
   "source": [
    "## Questão 4\n",
    "\n",
    "Crie um array 2D (bidimensional) com 1 na borda e 0 dentro"
   ]
  },
  {
   "cell_type": "code",
   "execution_count": 9,
   "metadata": {},
   "outputs": [
    {
     "data": {
      "text/plain": [
       "array([[1., 1., 1.],\n",
       "       [1., 0., 1.],\n",
       "       [1., 0., 1.],\n",
       "       [1., 0., 1.],\n",
       "       [1., 1., 1.]])"
      ]
     },
     "execution_count": 9,
     "metadata": {},
     "output_type": "execute_result"
    }
   ],
   "source": [
    "def matriz_miolo_de_pao(a,b):\n",
    "    arr= np.zeros((a,b))\n",
    "    arr[0,:]= 1  #primeira linha \n",
    "    arr[-1,:]= 1 #última linha  \n",
    "    arr[:,0]= 1  #primeira coluna\n",
    "    arr[:,-1]= 1 #última coluna\n",
    "    return arr\n",
    "\n",
    "matriz_miolo_de_pao(5,3)\n",
    "    "
   ]
  },
  {
   "cell_type": "markdown",
   "metadata": {
    "id": "U1CntgkZE6hc"
   },
   "source": [
    "## Questão 5\n",
    "\n",
    "Como adicionar uma borda de 0's ao redor de um array 2D (bidimensional) existente"
   ]
  },
  {
   "cell_type": "code",
   "execution_count": 10,
   "metadata": {},
   "outputs": [
    {
     "data": {
      "text/plain": [
       "array([[0., 0., 0., 0., 0.],\n",
       "       [0., 1., 1., 1., 0.],\n",
       "       [0., 1., 1., 1., 0.],\n",
       "       [0., 1., 1., 1., 0.],\n",
       "       [0., 1., 1., 1., 0.],\n",
       "       [0., 1., 1., 1., 0.],\n",
       "       [0., 0., 0., 0., 0.]])"
      ]
     },
     "execution_count": 10,
     "metadata": {},
     "output_type": "execute_result"
    }
   ],
   "source": [
    "def zerou(arr):\n",
    "    arr= np.pad (arr, pad_width=1, mode='constant', constant_values=0)\n",
    "    return arr\n",
    "\n",
    "arr = np.ones((5,3))\n",
    "zerou(arr)"
   ]
  },
  {
   "cell_type": "code",
   "execution_count": 11,
   "metadata": {},
   "outputs": [
    {
     "data": {
      "text/plain": [
       "array([[ 0,  0,  0,  0,  0,  0],\n",
       "       [ 0,  2,  3,  4,  5,  0],\n",
       "       [ 0,  5,  4,  3,  2,  0],\n",
       "       [ 0, 10,  9,  8,  7,  0],\n",
       "       [ 0,  6,  5,  4,  3,  0],\n",
       "       [ 0,  0,  0,  0,  0,  0]])"
      ]
     },
     "execution_count": 11,
     "metadata": {},
     "output_type": "execute_result"
    }
   ],
   "source": [
    "a =np.array([[2,3,4,5,],\n",
    "         [5,4,3,2],\n",
    "         [10,9,8,7],\n",
    "         [6,5,4,3]])\n",
    "zerou(a)"
   ]
  },
  {
   "cell_type": "markdown",
   "metadata": {
    "id": "qHh149eAE6hd"
   },
   "source": [
    "## Questão 6\n",
    "\n",
    " A eletroencefalografia (EEG) é uma técnica que mensura potenciais elétricos cerebrais em diversas regiões do escalpo do paciente. Suponha que você recebeu um conjunto de dados na forma de uma matriz de 64 x 512 elementos, em que cada linha contém o sinal gravado em um dos **eletrodos** espalhados pelo escalpo em um exame de EEG, e cada coluna contém um valor de potencial elétrico, em microvolts. "
   ]
  },
  {
   "cell_type": "markdown",
   "metadata": {
    "id": "BRDY8u09E6hd"
   },
   "source": [
    "Como o sinal de EEG é muito suscetível a ruídos externos (interferências na qualidade do sinal), uma operação comum para atenuar a interferência no sinal consiste em tirar a média do potencial elétrico de todos os eletrodos, e subtrair este valor de cada um deles. Isto atenua fontes de ruído ao sinal comuns a todos os eletrodos. Em termos matemáticos, o sinal processado por esta operação, $X_{e,i}$ para cada eletrodo (e) e amostra (i), é dado por:"
   ]
  },
  {
   "cell_type": "markdown",
   "metadata": {
    "id": "NHLeT5deE6he"
   },
   "source": [
    "$X_{e,i} = \\hat{X_{e,i}} - \\frac{1}{N}\\sum_{e=1}^{N}\\hat{X_{e,i}}$,\n",
    "\n",
    "em que $\\hat{X_{e,i}}$ representa o sinal original (ou seja, é a matriz de entrada de 64 x 512 elementos), e $N$ indica o total de eletrodos."
   ]
  },
  {
   "cell_type": "markdown",
   "metadata": {
    "id": "ToiE-omdE6he"
   },
   "source": [
    "Com o exposto acima, escreva uma função que retorne uma matriz com os sinais de EEG processados conforme a operação mencionada. Sua função deve operar conforme o exemplo abaixo."
   ]
  },
  {
   "cell_type": "markdown",
   "metadata": {
    "id": "EgsEH6T-E6hf",
    "outputId": "7388c8ad-a5f8-4097-b1db-e2e1e4aad9b0"
   },
   "source": [
    "```python\n",
    "\n",
    "# vamos supor uma matriz de entrada gerada por dados aleatórios\n",
    "X = np.random.randn(64,512)\n",
    "X.shape # apenas para verificar as dimensões\n",
    "\n",
    "```\n",
    "\n",
    "```\n",
    "(64, 512)\n",
    "```"
   ]
  },
  {
   "cell_type": "markdown",
   "metadata": {
    "id": "gXsgtYEJE6hg",
    "outputId": "7d179469-09c8-4d0d-d8b7-a9cde1f813fb"
   },
   "source": [
    "```python\n",
    "# a função deve executar a operação equacionada anteriormente, retornando uma nova matriz\n",
    "X_processado = process_EEG_signal(X)\n",
    "X_processado.shape\n",
    "```\n",
    "\n",
    "```\n",
    "(64, 512)\n",
    "```"
   ]
  },
  {
   "cell_type": "markdown",
   "metadata": {
    "id": "mR_U9LEbE6hh",
    "outputId": "ef4a479a-23fa-4e1e-9e50-97afaa3596ca"
   },
   "source": [
    "```python\n",
    "# Somando as diferenças entre cada elemento das duas matrizes, apenas para ilustrar que elas não são iguais\n",
    "(X_processado - X).sum()\n",
    "```\n",
    "```\n",
    "-53.08727366483029\n",
    "```"
   ]
  },
  {
   "cell_type": "markdown",
   "metadata": {
    "id": "HkoRtLugE6hh",
    "outputId": "ee8fe812-1c8c-43e5-d04a-40b0e370b85a"
   },
   "source": [
    "```python\n",
    "# Visualizando as matrizes, para verificar uma vez mais que, de fato, os elementos são diferentes\n",
    "X\n",
    "```\n",
    "```\n",
    "array([[ 0.29305925,  0.89663038, -0.61032202, ..., -0.88086364,\n",
    "        -0.8818789 ,  0.51260497],\n",
    "       [-0.01274415,  1.05439522,  0.47958092, ..., -2.15387924,\n",
    "         0.70721168,  0.97029889],\n",
    "       [ 1.09478371, -0.16120847,  1.58400361, ...,  0.20981813,\n",
    "         2.17373837,  0.94032162],\n",
    "       ...,\n",
    "       [-0.45294842, -2.28939505,  1.10111998, ...,  1.63581703,\n",
    "        -0.39394924, -1.13400723],\n",
    "       [-0.22669886,  0.25413429, -1.17870637, ..., -0.09509442,\n",
    "         0.90733806,  0.37999411],\n",
    "       [ 0.15476933, -0.03654717, -1.09982762, ...,  0.67600047,\n",
    "        -0.84533328, -0.56433144]])\n",
    "```"
   ]
  },
  {
   "cell_type": "markdown",
   "metadata": {
    "id": "kGdBX0J-E6hi",
    "outputId": "59655945-932b-4a3b-b4d1-bcc87f9ecdca"
   },
   "source": [
    "```python\n",
    "# Matriz após o processamento descrito no enunciado\n",
    "X_processado\n",
    "```\n",
    "\n",
    "```\n",
    "array([[ 0.36713022,  0.85772513, -0.54902169, ..., -0.85626087,\n",
    "        -0.97611435,  0.51718998],\n",
    "       [ 0.06132682,  1.01548997,  0.54088126, ..., -2.12927647,\n",
    "         0.61297623,  0.97488389],\n",
    "       [ 1.16885469, -0.20011372,  1.64530394, ...,  0.23442091,\n",
    "         2.07950292,  0.94490663],\n",
    "       ...,\n",
    "       [-0.37887744, -2.3283003 ,  1.16242031, ...,  1.6604198 ,\n",
    "        -0.4881847 , -1.12942223],\n",
    "       [-0.15262788,  0.21522904, -1.11740604, ..., -0.07049164,\n",
    "         0.81310261,  0.38457911],\n",
    "       [ 0.22884031, -0.07545242, -1.03852729, ...,  0.70060324,\n",
    "        -0.93956874, -0.55974643]])\n",
    "```"
   ]
  },
  {
   "cell_type": "code",
   "execution_count": 12,
   "metadata": {
    "id": "OlxjvCnQE6hj"
   },
   "outputs": [],
   "source": [
    "# Solução\n",
    "def process_EEG_signal (sinal):\n",
    "    import numpy as np\n",
    "    media = sinal.mean()\n",
    "    processado = sinal - media\n",
    "    return processado"
   ]
  },
  {
   "cell_type": "code",
   "execution_count": 13,
   "metadata": {},
   "outputs": [
    {
     "data": {
      "text/plain": [
       "(64, 512)"
      ]
     },
     "execution_count": 13,
     "metadata": {},
     "output_type": "execute_result"
    }
   ],
   "source": [
    "import numpy as np\n",
    "# vamos supor uma matriz de entrada gerada por dados aleatórios\n",
    "X = np.random.randn(64,512)\n",
    "X.shape # apenas para verificar as dimensões"
   ]
  },
  {
   "cell_type": "code",
   "execution_count": 14,
   "metadata": {},
   "outputs": [
    {
     "data": {
      "text/plain": [
       "array([[-0.06726767, -0.0842704 ,  0.88656618, ..., -1.1610474 ,\n",
       "         0.29329047, -1.29521998],\n",
       "       [ 1.0588244 ,  1.48982084, -0.37792254, ..., -1.42886741,\n",
       "         1.66859725, -0.70803605],\n",
       "       [-0.48435143, -1.50655552,  0.25946845, ..., -0.41959446,\n",
       "         0.34200259, -0.82458364],\n",
       "       ...,\n",
       "       [-0.26537378,  0.06083799, -1.04624597, ...,  0.50339061,\n",
       "         0.25958002, -0.84868912],\n",
       "       [-2.00147809, -0.76001986,  1.25251989, ...,  0.02474265,\n",
       "         0.17716033, -1.24921242],\n",
       "       [-0.24863326,  1.69168164,  0.32025121, ...,  0.32318777,\n",
       "        -0.54836062,  0.75487548]])"
      ]
     },
     "execution_count": 14,
     "metadata": {},
     "output_type": "execute_result"
    }
   ],
   "source": [
    "process_EEG_signal(X)"
   ]
  },
  {
   "cell_type": "markdown",
   "metadata": {
    "id": "7Gy6nTwQE6hj"
   },
   "source": [
    "## Questão 7\n",
    "\n",
    "Em estatística, um **outlier** é um valor que destoa consideravelmente da distribuição à qual está associado. Um dos critérios para idenficar outliers consiste em encontrar a **distância interquantil** (IQR), ou seja, a diferença entre o terceiro (Q3) e o primeiro quartis (Q1) da distribuição, e tomar como outliers todos os pontos abaixo de $1,5\\cdot IQR - Q1$, ou acima de $1,5\\cdot IQR + Q3$."
   ]
  },
  {
   "cell_type": "markdown",
   "metadata": {
    "id": "CP-NkMHTE6hk"
   },
   "source": [
    "<img src = \"https://blog.curso-r.com/images/posts/banner/outlier.webp\" />"
   ]
  },
  {
   "cell_type": "markdown",
   "metadata": {
    "id": "BLDJN5JPE6hk"
   },
   "source": [
    "Escreva uma função que, dada uma matriz de dados de entrada de dimensões $N_{observações} \\times N_{features}$ retorne três requisitos: \n",
    "- uma matriz booleana indicando a existência de outliers nos dados de entrada;\n",
    "- a quantidade de outliers\n",
    "- quem são os outliers (os valores)."
   ]
  },
  {
   "cell_type": "markdown",
   "metadata": {
    "id": "wwVcP2uZE6hl"
   },
   "source": [
    "**Algumas definições:**\n",
    "- um *quantil* divide a distribuição, após ordenados os pontos, segundo algum ponto de corte;\n",
    "- o **primeiro quartil** é o ponto para o qual 25 % dos valores da distribuição estão abaixo dele;\n",
    "- o **terceiro quartil** é o ponto para o qual 75 % dos valores da distribuição estão abaixo dele.\n",
    "\n",
    "Pode ser útil consultar a função **numpy.quantile**."
   ]
  },
  {
   "cell_type": "markdown",
   "metadata": {
    "id": "C9nCKXhjE6hm"
   },
   "source": [
    "Exemplo de operação da função:\n",
    "```python\n",
    "# Geremos um conjunto de dados qualquer\n",
    "X = np.random.randn(300,15)\n",
    "X\n",
    "```\n",
    "Saída:\n",
    "\n",
    "```\n",
    "array([[-2.02108952,  0.57945921, -2.23074965, ..., -0.60349514,\n",
    "         0.92180452, -0.15625722],\n",
    "       [ 0.24904397,  0.03493447,  0.3515052 , ..., -0.46950081,\n",
    "         0.20361331,  0.02715956],\n",
    "       [ 0.55902525, -0.48435434,  0.90413414, ..., -0.54425743,\n",
    "        -0.80769134, -0.07912549],\n",
    "       ...,\n",
    "       [-1.04069388, -0.24245725, -2.00308877, ...,  0.4084777 ,\n",
    "        -1.81516131,  0.39063118],\n",
    "       [-1.39275097,  0.3989636 ,  0.2926223 , ...,  1.2620666 ,\n",
    "         0.72262949,  1.50737559],\n",
    "       [ 0.15922011, -0.79810788, -1.60939896, ..., -0.08214499,\n",
    "        -0.13167475,  0.15990558]])\n",
    "```"
   ]
  },
  {
   "cell_type": "markdown",
   "metadata": {
    "id": "KVe7LEW0E6hn"
   },
   "source": [
    "```python\n",
    "# identificamos os requisitos com nossa com nossa função \"locate_outliers\"\n",
    "is_outlier, outliers_count, outliers = locate_outliers(X)\n",
    "is_outlier\n",
    "```\n",
    "Saída:\n",
    "```\n",
    "array([[False, False, False, ..., False, False, False],\n",
    "       [False, False, False, ..., False, False, False],\n",
    "       [False, False, False, ..., False, False, False],\n",
    "       ...,\n",
    "       [False, False, False, ..., False, False, False],\n",
    "       [False, False, False, ..., False, False, False],\n",
    "       [False, False, False, ..., False, False, False]])\n",
    "```"
   ]
  },
  {
   "cell_type": "markdown",
   "metadata": {
    "id": "IzjWsBrZE6ho",
    "outputId": "8bf5b80b-16e4-4c65-eead-2a46b67a3954"
   },
   "source": [
    "```python\n",
    "outliers_count\n",
    "```\n",
    "\n",
    "\n",
    "`44`\n"
   ]
  },
  {
   "cell_type": "markdown",
   "metadata": {
    "id": "PbO7R7P2E6hp",
    "outputId": "161089f3-1f11-46a0-ba52-3a328ad17710"
   },
   "source": [
    "```python\n",
    "outliers\n",
    "```\n",
    "```\n",
    "array([-2.67240384,  3.00270904,  3.62317101,  3.18867865,  2.55581522,\n",
    "       -2.82091429,  2.8757892 ,  2.70666036,  3.19514999, -3.40550318,\n",
    "       -3.39825827,  2.6727295 ,  2.54498296, -2.69447104,  3.19521603,\n",
    "        2.66372172, -2.77444948,  2.77421152,  2.69992869, -2.84831109,\n",
    "       -2.83695779, -2.45908227,  3.07802106,  2.89314015, -2.68574682,\n",
    "       -2.85019494,  2.43399574,  2.44291266, -2.92595937, -2.95911074,\n",
    "       -3.03966003,  2.77543068, -2.67368414, -2.79965402, -3.0501958 ,\n",
    "       -2.5437387 ,  3.08550649, -3.17666255, -3.05795476, -3.09826467,\n",
    "        3.1399469 ,  3.18141942,  2.90564257, -2.89505054])\n",
    "```"
   ]
  },
  {
   "cell_type": "code",
   "execution_count": 15,
   "metadata": {},
   "outputs": [],
   "source": [
    "# Escreva uma função que, dada uma matriz de dados de entrada de dimensões  𝑁𝑜𝑏𝑠𝑒𝑟𝑣𝑎çõ𝑒𝑠×𝑁𝑓𝑒𝑎𝑡𝑢𝑟𝑒𝑠\n",
    "# retorne três requisitos:\n",
    "\n",
    "# - uma matriz booleana indicando a existência de outliers nos dados de entrada;\n",
    "# - a quantidade de outliers\n",
    "# - quem são os outliers (os valores).\n",
    "\n",
    "\n",
    "# Baseei a fómula utilizada nas fórmulas encontradas na seção \"Identificando outliers\" nesse link: \n",
    "# https://escoladedados.org/tutoriais/analise-com-estatistica-descritiva-para-leigos\n",
    "\n",
    "def locate_outliers(X):\n",
    "    \"\"\"\n",
    "    Recebe: um array do numpy de dimensões  𝑁𝑜𝑏𝑠𝑒𝑟𝑣𝑎çõ𝑒𝑠×𝑁𝑓𝑒𝑎𝑡𝑢𝑟𝑒𝑠.\n",
    "    Retorna: uma matriz booleana indicando a existência de outliers nos dados de entrada;\n",
    "    a quantidade de outliers; quem são os outliers (os valores).\n",
    "    \"\"\"\n",
    "    \n",
    "    import numpy as np\n",
    "    q1 = np.quantile(X,.25, axis=0) #axis=0 para analisar cada feature, pois as features estão em colunas\n",
    "    q3 = np.quantile(X,.75, axis=0)\n",
    "    iqr = (q3 - q1)\n",
    "    is_outlier = ((X < (q1 - iqr.dot(1.5)))) | (X > (q3 + iqr.dot(1.5)))\n",
    "    outliers_count = (X[is_outlier]).size\n",
    "    outliers = X[is_outlier]\n",
    "    return (is_outlier, outliers_count, outliers)"
   ]
  },
  {
   "cell_type": "code",
   "execution_count": 16,
   "metadata": {},
   "outputs": [
    {
     "name": "stdout",
     "output_type": "stream",
     "text": [
      "Matriz booleana: \n",
      " [[False False False ... False False False]\n",
      " [False False False ... False False False]\n",
      " [False False False ... False False False]\n",
      " ...\n",
      " [False False False ... False False False]\n",
      " [False False False ... False False False]\n",
      " [False False False ... False False False]]\n",
      "Contagem de outliers:  34\n",
      "Outliers: \n",
      " [ 3.8303064  -3.02987744 -3.33212329  2.65110752  2.6702679  -3.1598458\n",
      " -3.12087613  3.00452494  2.70968992  2.837541   -2.60557899  2.82187813\n",
      "  2.4622489   3.44682187 -3.14796102  2.53651549  3.32250251  3.4198265\n",
      "  3.10514477  2.95426145 -3.22252268  2.39617363  3.24080016  2.7590277\n",
      " -2.83026587  2.62333999  2.93606719  2.99956006 -2.66633491  2.99630566\n",
      "  3.13097749  3.21236856  2.78030833  2.24178169]\n"
     ]
    }
   ],
   "source": [
    "import numpy as np\n",
    "X = np.random.randn(300,15)\n",
    "\n",
    "is_outlier, outliers_count, outliers = locate_outliers(X)\n",
    "print(\"Matriz booleana: \\n\", is_outlier)\n",
    "print(\"Contagem de outliers: \", outliers_count)\n",
    "print(\"Outliers: \\n\", outliers)"
   ]
  },
  {
   "cell_type": "markdown",
   "metadata": {
    "id": "upNDn96PE6hq"
   },
   "source": [
    "## Questão 8\n",
    "\n",
    "Crie um vetor com valores que vão de 1 até 21 de dois em dois, a partir da função arange"
   ]
  },
  {
   "cell_type": "code",
   "execution_count": 17,
   "metadata": {
    "id": "w4d14JRZE6hr"
   },
   "outputs": [
    {
     "data": {
      "text/plain": [
       "array([ 1,  3,  5,  7,  9, 11, 13, 15, 17, 19])"
      ]
     },
     "execution_count": 17,
     "metadata": {},
     "output_type": "execute_result"
    }
   ],
   "source": [
    "jump = np.arange(1, 21, 2)\n",
    "jump"
   ]
  },
  {
   "cell_type": "markdown",
   "metadata": {
    "id": "SchEY1O7E6hr"
   },
   "source": [
    "## Questão 9\n",
    "\n",
    "Crie um array de 10 com valores aleatórios"
   ]
  },
  {
   "cell_type": "code",
   "execution_count": 18,
   "metadata": {
    "id": "MYpySePjE6hs"
   },
   "outputs": [
    {
     "data": {
      "text/plain": [
       "array([8, 3, 4, 1, 9, 1, 9, 7, 5, 8])"
      ]
     },
     "execution_count": 18,
     "metadata": {},
     "output_type": "execute_result"
    }
   ],
   "source": [
    "aleatorio = np.random.randint(1,10,10)\n",
    "aleatorio\n"
   ]
  },
  {
   "cell_type": "markdown",
   "metadata": {
    "id": "EFfvM6LIAlfJ"
   },
   "source": [
    "## Questão 10\n",
    "\n",
    "Em estatística, a normalização de uma distribuição de dados pode ser feita subtraindo o valor médio da distribuição de cada valor do conjunto de dados, dividindo o resultado pelo desvio-padrão da distribuição. Escreva uma função que normalize os dados recebidos por um array numpy qualquer, conforme descrito anteriormente."
   ]
  },
  {
   "cell_type": "code",
   "execution_count": 19,
   "metadata": {
    "id": "yfho2bziAlfJ"
   },
   "outputs": [],
   "source": [
    "def normalize(X):\n",
    "    \"\"\"\n",
    "    Recebe um array do numpy e retorna os valores padronizados em score-z.\n",
    "    \"\"\"\n",
    "    desvio=      X.std()\n",
    "    media=       X.mean()\n",
    "    normalizado= (X-media).dot(1/desvio)\n",
    "    return normalizado"
   ]
  },
  {
   "cell_type": "code",
   "execution_count": 20,
   "metadata": {},
   "outputs": [
    {
     "data": {
      "text/plain": [
       "array([ 0.84036581, -0.84036581, -0.50421948, -1.51265845,  1.17651213,\n",
       "       -1.51265845,  1.17651213,  0.50421948, -0.16807316,  0.84036581])"
      ]
     },
     "execution_count": 20,
     "metadata": {},
     "output_type": "execute_result"
    }
   ],
   "source": [
    "normalize(aleatorio)"
   ]
  },
  {
   "cell_type": "code",
   "execution_count": 21,
   "metadata": {},
   "outputs": [
    {
     "data": {
      "text/plain": [
       "array([ 0.84036581, -0.84036581, -0.50421948, -1.51265845,  1.17651213,\n",
       "       -1.51265845,  1.17651213,  0.50421948, -0.16807316,  0.84036581])"
      ]
     },
     "execution_count": 21,
     "metadata": {},
     "output_type": "execute_result"
    }
   ],
   "source": [
    "#testando comparando com o z-score do scipy\n",
    "\n",
    "import scipy.stats as stats\n",
    "zscores = stats.zscore(aleatorio)\n",
    "zscores"
   ]
  },
  {
   "cell_type": "markdown",
   "metadata": {
    "id": "p60_N7ZwAlfK"
   },
   "source": [
    "## Questão 11\n",
    "\n",
    "Escreva uma função em numpy que receba um array contendo notas de uma turma de 100 estudantes. Considere que a nota de aprovação da turma é 5.0. A função deve retornar, em um array numpy, nesta ordem:\n",
    "- a média e o desvio-padrão das notas da turma;\n",
    "- o número de notas maiores que 7.0;\n",
    "- o número de reprovações da turma;\n",
    "- a menor nota da turma;\n",
    "- a maior nota da turma."
   ]
  },
  {
   "cell_type": "code",
   "execution_count": 22,
   "metadata": {
    "id": "Q3wkBCFtAlfK"
   },
   "outputs": [],
   "source": [
    "def notas (X):\n",
    "    \"\"\"\n",
    "    Recebe: \n",
    "    um array do numpy com notas de 100 estudantes.\n",
    "    \n",
    "    Retorna um array do Numpy com:\n",
    "    a média e o desvio-padrão das notas da turma;\n",
    "    o número de notas maiores que 7.0;\n",
    "    o número de reprovações da turma;\n",
    "    a menor nota da turma;\n",
    "    a maior nota da turma.\n",
    "    \"\"\"\n",
    "    import numpy as np\n",
    "    \n",
    "    media = X.mean()\n",
    "    desvio = X.std()\n",
    "    count_ma7= (X[X>7]).size\n",
    "    rep = (X[X<5]).size\n",
    "    min = X.min()\n",
    "    max = X.max()\n",
    "    \n",
    "    return np.array([media, desvio, count_ma7, rep, min, max])"
   ]
  },
  {
   "cell_type": "code",
   "execution_count": 23,
   "metadata": {},
   "outputs": [
    {
     "data": {
      "text/plain": [
       "array([5.5       , 2.97489496, 4.        , 4.        , 1.        ,\n",
       "       9.        ])"
      ]
     },
     "execution_count": 23,
     "metadata": {},
     "output_type": "execute_result"
    }
   ],
   "source": [
    "notas(aleatorio)"
   ]
  }
 ],
 "metadata": {
  "colab": {
   "include_colab_link": true,
   "provenance": []
  },
  "kernelspec": {
   "display_name": "Python 3 (ipykernel)",
   "language": "python",
   "name": "python3"
  },
  "language_info": {
   "codemirror_mode": {
    "name": "ipython",
    "version": 3
   },
   "file_extension": ".py",
   "mimetype": "text/x-python",
   "name": "python",
   "nbconvert_exporter": "python",
   "pygments_lexer": "ipython3",
   "version": "3.9.12"
  }
 },
 "nbformat": 4,
 "nbformat_minor": 1
}
