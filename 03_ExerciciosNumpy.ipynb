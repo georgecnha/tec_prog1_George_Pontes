{
 "cells": [
  {
   "cell_type": "markdown",
   "metadata": {
    "id": "dDhJSUbSE6hI"
   },
   "source": [
    "# Lista de Exercícios de Numpy\n",
    "\n",
    "Deverá ser entregue até **11/02/2023** por meio do github que foi informado por vocês no [formulário](https://forms.office.com/r/YV12vEXGYF) respondido na aula de 01/02.\n",
    "\n",
    "A entrega pela github é parte da avaliação."
   ]
  },
  {
   "cell_type": "code",
   "execution_count": 1,
   "metadata": {},
   "outputs": [],
   "source": [
    "import numpy as np"
   ]
  },
  {
   "cell_type": "markdown",
   "metadata": {
    "id": "eX5x6-bjE6hN"
   },
   "source": [
    "## Questão 1\n",
    "\n",
    "Crie um array 100 com valores aleatórios e ache os valores máximo e mínimo"
   ]
  },
  {
   "cell_type": "code",
   "execution_count": 2,
   "metadata": {
    "id": "kYKS_ae1E6hP"
   },
   "outputs": [
    {
     "data": {
      "text/plain": [
       "array([ 43,  72,  97,  80,   3,  24,  15,   4,  72,  54,  19,  43,  35,\n",
       "       100,  54,  98,  14,  64,  55,  78,  47,  83,  34,  32,  24,  83,\n",
       "        48,  44,  93,  58,  39,  52,  85,   8,  15,  85,  72,  67,  12,\n",
       "        23,  56,  62,  16,  98,  99,  21,  18,  86,  42,  97,  18,  10,\n",
       "         7,  98,  63,  42,  70,  64,  10,   8,  62,  64,  87,  56,  86,\n",
       "        88,  41,  23,  28,   4,   8,  88,  80,   1,  59,  98,  10,   5,\n",
       "        88,  21,  85,  83,  46,  29,  46,  46,  40, 100,  53,  25,  98,\n",
       "        44,  41,  90,  14,  15,  86,  12,  34, 100])"
      ]
     },
     "execution_count": 2,
     "metadata": {},
     "output_type": "execute_result"
    }
   ],
   "source": [
    "a= np.random.randint(1,101,100)\n",
    "a"
   ]
  },
  {
   "cell_type": "code",
   "execution_count": 3,
   "metadata": {},
   "outputs": [
    {
     "data": {
      "text/plain": [
       "100"
      ]
     },
     "execution_count": 3,
     "metadata": {},
     "output_type": "execute_result"
    }
   ],
   "source": [
    "a.max()"
   ]
  },
  {
   "cell_type": "code",
   "execution_count": 4,
   "metadata": {},
   "outputs": [
    {
     "data": {
      "text/plain": [
       "1"
      ]
     },
     "execution_count": 4,
     "metadata": {},
     "output_type": "execute_result"
    }
   ],
   "source": [
    "a.min()"
   ]
  },
  {
   "cell_type": "markdown",
   "metadata": {
    "id": "qT9pSHp4E6hQ"
   },
   "source": [
    "## Questão 2\n",
    "Em Geometria Analítica, um **vetor** é uma quantidade que pode ser definida por um énuplo (uma sequência ordenada de *n* elementos) em que cada elemento representa a intensidade do vetor na direção especificada pela i-ésima componente desta sequência. \n",
    "\n",
    "Quando pensamos em duas dimensões, por exemplo, o vetor $R = (b,a)$ define, geometricamente, a entidade representada na figura abaixo, com componentes nos eixos x e y usuais.\n",
    "\n",
    "<img src = \"https://static.todamateria.com.br/upload/im/ag/image-721.jpg?auto_optimize=low\" />\n",
    "\n",
    "O **módulo** deste vetor, também chamado de intensidade, está geometricamente relacionado ao seu comprimento, e pode ser calculado diretamente pelas suas componentes, por meio de uma operação conhecida como **produto escalar** do vetor com ele mesmo. O módulo quadrático é expresso, desta forma, por:\n",
    "\n",
    "$|A|^2 = \\vec{A} \\cdot \\vec{A}$\n",
    "\n",
    "Por outro lado, o produto escalar entre dois vetores $A = (a_{x}, a_{y})$ e $B = (b_{x}, b_{y})$ é dado por:\n",
    "\n",
    "$\\vec{A} \\cdot \\vec{B} = a_{x} \\times b_{x} + a_{y} \\times b_{y}$ (e esta definição vale para qualquer que seja a dimensão do vetor).\n",
    "\n",
    "O módulo quadrático de um vetor é, portanto:\n",
    "\n",
    "$|A|² = a_{x}^2 + b_{x}^2$."
   ]
  },
  {
   "cell_type": "markdown",
   "metadata": {
    "id": "-ZU6W86sE6hT"
   },
   "source": [
    "Dado o exposto acima, escreva uma função que retorne o módulo de um vetor n-dimensional qualquer."
   ]
  },
  {
   "cell_type": "code",
   "execution_count": 5,
   "metadata": {
    "id": "PdKKKvShE6hT"
   },
   "outputs": [],
   "source": [
    "def modulo(a):\n",
    "    import numpy as np\n",
    "    somaquad=0\n",
    "    for i in a:\n",
    "        somaquad+=(i*i)\n",
    "    modulo=(somaquad)**(1/2)\n",
    "    return (modulo)\n",
    "    \n",
    "    "
   ]
  },
  {
   "cell_type": "code",
   "execution_count": 6,
   "metadata": {},
   "outputs": [
    {
     "data": {
      "text/plain": [
       "3.7416573867739413"
      ]
     },
     "execution_count": 6,
     "metadata": {},
     "output_type": "execute_result"
    }
   ],
   "source": [
    "import numpy as np\n",
    "a = np.array ([1,2,3])\n",
    "\n",
    "modulo(a)"
   ]
  },
  {
   "cell_type": "markdown",
   "metadata": {
    "id": "CRZdfzLgE6hU"
   },
   "source": [
    "## Questão 3\n",
    "\n",
    "Em uma **análise de regressão**, usualmente estamos interessados em descrever relações entre variáveis de um dado conjunto de dados por meio de uma **função** que descreva, o tanto quanto possível, estas relações.\n",
    "\n",
    "Por exemplo, no gráfico abaixo, os pontos vermelhos relacionam as medidas das duas variáveis sendo avaliadas (nos eixos x e y); e a linha azul aproxima a relação entre elas por uma função linear."
   ]
  },
  {
   "cell_type": "markdown",
   "metadata": {
    "id": "180Vp7AZE6hV"
   },
   "source": [
    "![Normdist_regression.png](https://miro.medium.com/v2/resize:fit:786/format:webp/1*LEmBCYAttxS6uI6rEyPLMQ.png)"
   ]
  },
  {
   "cell_type": "markdown",
   "metadata": {
    "id": "oQ1RFXOAE6hV"
   },
   "source": [
    "É possível ver que nem todos os pontos obedecem exatamente à relação ditada pela reta (isto é, há pontos que não estão exatamente \"sobre a reta\"; mas, sim, ligeraimente acima, ou abaixo, dela). Isto, contudo, é esperado em um modelo de regressão, por inúmeras fontes de incerteza associadas às medições."
   ]
  },
  {
   "cell_type": "markdown",
   "metadata": {
    "id": "XGWoc_O2E6hW"
   },
   "source": [
    "Uma das métricas que utilizamos para avaliar a qualidade de uma regressão é o **erro quadrático médio (EQM)**, que mensura a diferença total entre cada predição da regressão ($y_{prediction}$; que no nosso caso seriam os valores de y para a reta azul) com o valor real de cada i-ésima medida ($y_{i}$; que no nosso caso seriam as coordenadas y para cada ponto vermelho do gráfico). O EQM pode ser definido como:"
   ]
  },
  {
   "cell_type": "markdown",
   "metadata": {
    "id": "CjgOdTD6E6hX"
   },
   "source": [
    "$EQM = \\frac{1}{n}\\sum_{i=1}^{n}(y_{prediction} - y_{i})^2$."
   ]
  },
  {
   "cell_type": "markdown",
   "metadata": {
    "id": "qeXCrbmbE6hY"
   },
   "source": [
    "Isto posto, escreva uma função que calcule o EQM recebendo, como entrada, os vetores $y_{prediction}$ e $y_{i}$. Por exemplo, digamos que sua função se chame *calculate_eqm*, ela deve operar da seguinte forma:"
   ]
  },
  {
   "cell_type": "markdown",
   "metadata": {},
   "source": [
    "```python\n",
    "# dados dois arrays quaisquer de mesmo tamanho, a função deve retornar o EQM\n",
    "y_prediction = np.array([1,2,3])\n",
    "y_i = np.array([0,0,3])\n",
    "calculate_eqm(y_prediction,y_i)\n",
    "```\n",
    "\n",
    "`1.6666666666666665`\n"
   ]
  },
  {
   "cell_type": "code",
   "execution_count": 7,
   "metadata": {
    "id": "bwiTGuuoE6hb"
   },
   "outputs": [],
   "source": [
    "# Solução\n",
    "\n",
    "def calculate_eqm(yp, yi):\n",
    "    import numpy as np\n",
    "    soma= (yp-yi)\n",
    "    somaquad= (soma).dot(soma)\n",
    "    somatorio= somaquad.sum()\n",
    "    eqm=(somatorio/(soma.size))\n",
    "    return(eqm)    "
   ]
  },
  {
   "cell_type": "code",
   "execution_count": 8,
   "metadata": {},
   "outputs": [
    {
     "data": {
      "text/plain": [
       "1.6666666666666667"
      ]
     },
     "execution_count": 8,
     "metadata": {},
     "output_type": "execute_result"
    }
   ],
   "source": [
    "y_prediction = np.array([1,2,3])\n",
    "y_i = np.array([0,0,3])\n",
    "calculate_eqm(y_prediction,y_i)"
   ]
  },
  {
   "cell_type": "markdown",
   "metadata": {
    "id": "Wh0_a8PjE6hc"
   },
   "source": [
    "## Questão 4\n",
    "\n",
    "Crie um array 2D (bidimensional) com 1 na borda e 0 dentro"
   ]
  },
  {
   "cell_type": "code",
   "execution_count": 9,
   "metadata": {},
   "outputs": [
    {
     "data": {
      "text/plain": [
       "array([[1., 1., 1.],\n",
       "       [1., 0., 1.],\n",
       "       [1., 0., 1.],\n",
       "       [1., 0., 1.],\n",
       "       [1., 1., 1.]])"
      ]
     },
     "execution_count": 9,
     "metadata": {},
     "output_type": "execute_result"
    }
   ],
   "source": [
    "def matriz_miolo_de_pao(a,b):\n",
    "    arr= np.zeros((a,b))\n",
    "    arr[0,:]= 1  #primeira linha \n",
    "    arr[-1,:]= 1 #última linha  \n",
    "    arr[:,0]= 1  #primeira coluna\n",
    "    arr[:,-1]= 1 #última coluna\n",
    "    return arr\n",
    "\n",
    "matriz_miolo_de_pao(5,3)\n",
    "    "
   ]
  },
  {
   "cell_type": "markdown",
   "metadata": {
    "id": "U1CntgkZE6hc"
   },
   "source": [
    "## Questão 5\n",
    "\n",
    "Como adicionar uma borda de 0's ao redor de um array 2D (bidimensional) existente"
   ]
  },
  {
   "cell_type": "code",
   "execution_count": 10,
   "metadata": {},
   "outputs": [
    {
     "data": {
      "text/plain": [
       "array([[0., 0., 0.],\n",
       "       [0., 1., 0.],\n",
       "       [0., 1., 0.],\n",
       "       [0., 1., 0.],\n",
       "       [0., 0., 0.]])"
      ]
     },
     "execution_count": 10,
     "metadata": {},
     "output_type": "execute_result"
    }
   ],
   "source": [
    "def zerou(arr):\n",
    "    arr[0,:]= 0  #primeira linha \n",
    "    arr[-1,:]= 0 #última linha  \n",
    "    arr[:,0]= 0  #primeira coluna\n",
    "    arr[:,-1]= 0 #última coluna\n",
    "    return arr\n",
    "\n",
    "arr = np.ones((5,3))\n",
    "zerou(arr)"
   ]
  },
  {
   "cell_type": "markdown",
   "metadata": {
    "id": "qHh149eAE6hd"
   },
   "source": [
    "## Questão 6\n",
    "\n",
    " A eletroencefalografia (EEG) é uma técnica que mensura potenciais elétricos cerebrais em diversas regiões do escalpo do paciente. Suponha que você recebeu um conjunto de dados na forma de uma matriz de 64 x 512 elementos, em que cada linha contém o sinal gravado em um dos **eletrodos** espalhados pelo escalpo em um exame de EEG, e cada coluna contém um valor de potencial elétrico, em microvolts. "
   ]
  },
  {
   "cell_type": "markdown",
   "metadata": {
    "id": "BRDY8u09E6hd"
   },
   "source": [
    "Como o sinal de EEG é muito suscetível a ruídos externos (interferências na qualidade do sinal), uma operação comum para atenuar a interferência no sinal consiste em tirar a média do potencial elétrico de todos os eletrodos, e subtrair este valor de cada um deles. Isto atenua fontes de ruído ao sinal comuns a todos os eletrodos. Em termos matemáticos, o sinal processado por esta operação, $X_{e,i}$ para cada eletrodo (e) e amostra (i), é dado por:"
   ]
  },
  {
   "cell_type": "markdown",
   "metadata": {
    "id": "NHLeT5deE6he"
   },
   "source": [
    "$X_{e,i} = \\hat{X_{e,i}} - \\frac{1}{N}\\sum_{e=1}^{N}\\hat{X_{e,i}}$,\n",
    "\n",
    "em que $\\hat{X_{e,i}}$ representa o sinal original (ou seja, é a matriz de entrada de 64 x 512 elementos), e $N$ indica o total de eletrodos."
   ]
  },
  {
   "cell_type": "markdown",
   "metadata": {
    "id": "ToiE-omdE6he"
   },
   "source": [
    "Com o exposto acima, escreva uma função que retorne uma matriz com os sinais de EEG processados conforme a operação mencionada. Sua função deve operar conforme o exemplo abaixo."
   ]
  },
  {
   "cell_type": "code",
   "execution_count": 11,
   "metadata": {
    "id": "EgsEH6T-E6hf",
    "outputId": "7388c8ad-a5f8-4097-b1db-e2e1e4aad9b0"
   },
   "outputs": [
    {
     "data": {
      "text/plain": [
       "(64, 512)"
      ]
     },
     "execution_count": 11,
     "metadata": {},
     "output_type": "execute_result"
    }
   ],
   "source": [
    "# vamos supor uma matriz de entrada gerada por dados aleatórios\n",
    "X = np.random.randn(64,512)\n",
    "X.shape # apenas para verificar as dimensões"
   ]
  },
  {
   "cell_type": "code",
   "execution_count": 12,
   "metadata": {
    "id": "gXsgtYEJE6hg",
    "outputId": "7d179469-09c8-4d0d-d8b7-a9cde1f813fb"
   },
   "outputs": [
    {
     "ename": "NameError",
     "evalue": "name 'process_EEG_signal' is not defined",
     "output_type": "error",
     "traceback": [
      "\u001b[1;31m---------------------------------------------------------------------------\u001b[0m",
      "\u001b[1;31mNameError\u001b[0m                                 Traceback (most recent call last)",
      "Input \u001b[1;32mIn [12]\u001b[0m, in \u001b[0;36m<cell line: 2>\u001b[1;34m()\u001b[0m\n\u001b[0;32m      1\u001b[0m \u001b[38;5;66;03m# a função deve executar a operação equacionada anteriormente, retornando uma nova matriz\u001b[39;00m\n\u001b[1;32m----> 2\u001b[0m X_processado \u001b[38;5;241m=\u001b[39m \u001b[43mprocess_EEG_signal\u001b[49m(X)\n\u001b[0;32m      3\u001b[0m X_processado\u001b[38;5;241m.\u001b[39mshape\n",
      "\u001b[1;31mNameError\u001b[0m: name 'process_EEG_signal' is not defined"
     ]
    }
   ],
   "source": [
    "# a função deve executar a operação equacionada anteriormente, retornando uma nova matriz\n",
    "X_processado = process_EEG_signal(X)\n",
    "X_processado.shape"
   ]
  },
  {
   "cell_type": "code",
   "execution_count": null,
   "metadata": {
    "id": "mR_U9LEbE6hh",
    "outputId": "ef4a479a-23fa-4e1e-9e50-97afaa3596ca"
   },
   "outputs": [],
   "source": [
    "# Somando as diferenças entre cada elemento das duas matrizes, apenas para ilustrar que elas não são iguais\n",
    "(X_processado - X).sum()"
   ]
  },
  {
   "cell_type": "code",
   "execution_count": null,
   "metadata": {
    "id": "HkoRtLugE6hh",
    "outputId": "ee8fe812-1c8c-43e5-d04a-40b0e370b85a"
   },
   "outputs": [],
   "source": [
    "# Visualizando as matrizes, para verificar uma vez mais que, de fato, os elementos são diferentes\n",
    "X"
   ]
  },
  {
   "cell_type": "code",
   "execution_count": null,
   "metadata": {
    "id": "kGdBX0J-E6hi",
    "outputId": "59655945-932b-4a3b-b4d1-bcc87f9ecdca"
   },
   "outputs": [],
   "source": [
    "# Matriz após o processamento descrito no enunciado\n",
    "X_processado"
   ]
  },
  {
   "cell_type": "code",
   "execution_count": null,
   "metadata": {
    "id": "OlxjvCnQE6hj"
   },
   "outputs": [],
   "source": [
    "# Solução"
   ]
  },
  {
   "cell_type": "markdown",
   "metadata": {
    "id": "7Gy6nTwQE6hj"
   },
   "source": [
    "## Questão 7\n",
    "\n",
    "Em estatística, um **outlier** é um valor que destoa consideravelmente da distribuição à qual está associado. Um dos critérios para idenficar outliers consiste em encontrar a **distância interquantil** (IQR), ou seja, a diferença entre o terceiro (Q3) e o primeiro quartis (Q1) da distribuição, e tomar como outliers todos os pontos abaixo de 1.5*IQR - Q1, ou acima de 1.5*IQR + Q3."
   ]
  },
  {
   "cell_type": "markdown",
   "metadata": {
    "id": "CP-NkMHTE6hk"
   },
   "source": [
    "<img src = \"https://blog.curso-r.com/images/posts/banner/outlier.webp\" />"
   ]
  },
  {
   "cell_type": "markdown",
   "metadata": {
    "id": "BLDJN5JPE6hk"
   },
   "source": [
    "Escreva uma função que, dada uma matriz de dados de entrada de dimensões $N_{observações} \\times N_{features}$ retorne três requisitos: \n",
    "- uma matriz booleana indicando a existência de outliers nos dados de entrada;\n",
    "- a quantidade de outliers\n",
    "- quem são os outliers (os valores)."
   ]
  },
  {
   "cell_type": "markdown",
   "metadata": {
    "id": "wwVcP2uZE6hl"
   },
   "source": [
    "**Algumas definições:**\n",
    "- um *quantil* divide a distribuição, após ordenados os pontos, segundo algum ponto de corte;\n",
    "- o **primeiro quartil** é o ponto para o qual 25 % dos valores da distribuição estão abaixo dele;\n",
    "- o **terceiro quartil** é o ponto para o qual 75 % dos valores da distribuição estão abaixo dele.\n",
    "\n",
    "Pode ser útil consultar a função **numpy.quantile**."
   ]
  },
  {
   "cell_type": "markdown",
   "metadata": {
    "id": "C9nCKXhjE6hm"
   },
   "source": [
    "Exemplo de operação da função:"
   ]
  },
  {
   "cell_type": "code",
   "execution_count": null,
   "metadata": {
    "id": "wHdcs77RE6hm",
    "outputId": "28783112-67ef-4d51-9f83-ea939812a3d7"
   },
   "outputs": [],
   "source": [
    "# Geremos um conjunto de dados qualquer\n",
    "X = np.random.randn(300,15)\n",
    "X"
   ]
  },
  {
   "cell_type": "code",
   "execution_count": null,
   "metadata": {
    "id": "KVe7LEW0E6hn"
   },
   "outputs": [],
   "source": [
    "# identificamos os requisitos com nossa com nossa função \"locate_outliers\"\n",
    "is_outlier, outliers_count, outliers = locate_outliers(X)"
   ]
  },
  {
   "cell_type": "code",
   "execution_count": null,
   "metadata": {
    "id": "vuZ3n3K_E6hn",
    "outputId": "7e2860f1-4bf7-4a8a-a066-dff638e7a5f9"
   },
   "outputs": [],
   "source": [
    "is_outlier"
   ]
  },
  {
   "cell_type": "code",
   "execution_count": null,
   "metadata": {
    "id": "IzjWsBrZE6ho",
    "outputId": "8bf5b80b-16e4-4c65-eead-2a46b67a3954"
   },
   "outputs": [],
   "source": [
    "outliers_count"
   ]
  },
  {
   "cell_type": "code",
   "execution_count": null,
   "metadata": {
    "id": "PbO7R7P2E6hp",
    "outputId": "161089f3-1f11-46a0-ba52-3a328ad17710"
   },
   "outputs": [],
   "source": [
    "outliers"
   ]
  },
  {
   "cell_type": "code",
   "execution_count": null,
   "metadata": {
    "id": "AdTkst5UE6hq"
   },
   "outputs": [],
   "source": [
    "# Solução"
   ]
  },
  {
   "cell_type": "markdown",
   "metadata": {
    "id": "upNDn96PE6hq"
   },
   "source": [
    "## Questão 8\n",
    "\n",
    "Crie um vetor com valores que vão de 1 até 21 de dois em dois, a partir da função arange"
   ]
  },
  {
   "cell_type": "code",
   "execution_count": null,
   "metadata": {
    "id": "w4d14JRZE6hr"
   },
   "outputs": [],
   "source": []
  },
  {
   "cell_type": "markdown",
   "metadata": {
    "id": "SchEY1O7E6hr"
   },
   "source": [
    "## Questão 9\n",
    "\n",
    "Crie um array de 10 com valores aleatórios"
   ]
  },
  {
   "cell_type": "code",
   "execution_count": null,
   "metadata": {
    "id": "MYpySePjE6hs"
   },
   "outputs": [],
   "source": []
  },
  {
   "cell_type": "markdown",
   "metadata": {
    "id": "EFfvM6LIAlfJ"
   },
   "source": [
    "## Questão 10\n",
    "\n",
    "Em estatística, a normalização de uma distribuição de dados pode ser feita subtraindo o valor médio da distribuição de cada valor do conjunto de dados, dividindo o resultado pelo desvio-padrão da distribuição. Escreva uma função que normalize os dados recebidos por um array numpy qualquer, conforme descrito anteriormente."
   ]
  },
  {
   "cell_type": "code",
   "execution_count": null,
   "metadata": {
    "id": "yfho2bziAlfJ"
   },
   "outputs": [],
   "source": []
  },
  {
   "cell_type": "markdown",
   "metadata": {
    "id": "p60_N7ZwAlfK"
   },
   "source": [
    "## Questão 11\n",
    "\n",
    "Escreva uma função em numpy que receba um array contendo notas de uma turma de 100 estudantes. Considere que a nota de aprovação da turma é 5.0. A função deve retornar, em um array numpy, nesta ordem:\n",
    "- a média e o desvio-padrão das notas da turma;\n",
    "- o número de notas maiores que 7.0;\n",
    "- o número de reprovações da turma;\n",
    "- a menor nota da turma;\n",
    "- a maior nota da turma."
   ]
  },
  {
   "cell_type": "code",
   "execution_count": null,
   "metadata": {
    "id": "Q3wkBCFtAlfK"
   },
   "outputs": [],
   "source": []
  }
 ],
 "metadata": {
  "colab": {
   "include_colab_link": true,
   "provenance": []
  },
  "kernelspec": {
   "display_name": "Python 3 (ipykernel)",
   "language": "python",
   "name": "python3"
  },
  "language_info": {
   "codemirror_mode": {
    "name": "ipython",
    "version": 3
   },
   "file_extension": ".py",
   "mimetype": "text/x-python",
   "name": "python",
   "nbconvert_exporter": "python",
   "pygments_lexer": "ipython3",
   "version": "3.9.12"
  }
 },
 "nbformat": 4,
 "nbformat_minor": 1
}
