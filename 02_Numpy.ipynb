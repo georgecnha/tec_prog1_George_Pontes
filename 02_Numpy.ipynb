{
 "cells": [
  {
   "cell_type": "markdown",
   "metadata": {
    "id": "ck4mz0HzAleV"
   },
   "source": [
    "<img src=\"https://upload.wikimedia.org/wikipedia/commons/thumb/3/31/NumPy_logo_2020.svg/2560px-NumPy_logo_2020.svg.png\" alt=\"Alternative text\" />"
   ]
  },
  {
   "cell_type": "markdown",
   "metadata": {
    "id": "eGVnLJMDAleX"
   },
   "source": [
    "A biblioteca **NumPy** _(Numerical Python)_ proporciona uma forma eficiente de armazenagem e processamento de conjuntos de dados, e é utilizada como base para a construção da biblioteca Pandas, que estudaremos a seguir.\n",
    "\n",
    "O diferencial do Numpy é sua velocidade e eficiência, o que faz com que ela seja amplamente utilizada para computação científica e análise de dados. \n",
    "\n",
    "A velocidade e eficiência é possível graças à estrutura chamada **numpy array**, que é um forma eficiente de guardar e manipular matrizes, que serve como base para as tabelas que iremos utilizar."
   ]
  },
  {
   "cell_type": "markdown",
   "metadata": {
    "id": "RvWTYJ8QAlea"
   },
   "source": [
    "[Guia rápido de uso da biblioteca](https://numpy.org/devdocs/user/quickstart.html)\n",
    "\n",
    "[Guia para iniciantes](https://numpy.org/devdocs/user/absolute_beginners.html)"
   ]
  },
  {
   "cell_type": "markdown",
   "metadata": {
    "id": "wVMzQ3HKAled"
   },
   "source": [
    "___"
   ]
  },
  {
   "cell_type": "markdown",
   "metadata": {
    "id": "Wgn4cJ7IAlee"
   },
   "source": [
    "Qual a diferença entre um numpy array e uma lista?"
   ]
  },
  {
   "cell_type": "markdown",
   "metadata": {
    "id": "ksLymSzkAleg"
   },
   "source": [
    "**numpy array:** armazena somente um tipo de dado (homogêneo), ocupando menos memória. É pensado para maior eficiência de cálculo.\n",
    "\n",
    "**lista:** permite armazenar dados de vários tipos."
   ]
  },
  {
   "cell_type": "code",
   "execution_count": 1,
   "metadata": {
    "colab": {
     "base_uri": "https://localhost:8080/"
    },
    "id": "jMaym1x2Alei",
    "outputId": "31e188eb-e39c-4cd2-f62b-535e061eda5a"
   },
   "outputs": [
    {
     "data": {
      "text/plain": [
       "['a', 2, 2.4, True, [1, 3], {'a:1'}]"
      ]
     },
     "execution_count": 1,
     "metadata": {},
     "output_type": "execute_result"
    }
   ],
   "source": [
    "lista = [\"a\", 2, 2.4, True, [1,3], {\"a:1\"}]\n",
    "lista"
   ]
  },
  {
   "cell_type": "code",
   "execution_count": 2,
   "metadata": {
    "colab": {
     "base_uri": "https://localhost:8080/"
    },
    "id": "kCQkatJBAlel",
    "outputId": "e8cbd124-c66d-425a-b3cb-b33e2fb96e2d"
   },
   "outputs": [
    {
     "data": {
      "text/plain": [
       "['a', 2, 2.4, True, [1, 3], {'a:1'}, 'Olá']"
      ]
     },
     "execution_count": 2,
     "metadata": {},
     "output_type": "execute_result"
    }
   ],
   "source": [
    "lista.append(\"Olá\")\n",
    "lista"
   ]
  },
  {
   "cell_type": "markdown",
   "metadata": {
    "id": "Avy6UMuuAlen"
   },
   "source": [
    "Importando o numpy"
   ]
  },
  {
   "cell_type": "code",
   "execution_count": 3,
   "metadata": {
    "id": "4zSMWRnqAleo"
   },
   "outputs": [],
   "source": [
    "import numpy as np"
   ]
  },
  {
   "cell_type": "markdown",
   "metadata": {
    "id": "up_efyA7Aleo"
   },
   "source": [
    "### Arrays em numpy"
   ]
  },
  {
   "cell_type": "markdown",
   "metadata": {
    "id": "h4MGlQTLAlep"
   },
   "source": [
    "<img src = \"https://numpy.org/devdocs/_images/np_array.png\" />"
   ]
  },
  {
   "cell_type": "markdown",
   "metadata": {
    "id": "YEofh7adAleq"
   },
   "source": [
    "#### Criando arrays\n",
    "\n",
    "Pra criar arrays a partir de uma lista, basta utilizar a função **np.array()**"
   ]
  },
  {
   "cell_type": "code",
   "execution_count": 4,
   "metadata": {
    "colab": {
     "base_uri": "https://localhost:8080/"
    },
    "id": "_XnrmT2yAler",
    "outputId": "a88c2df9-aaed-4bd2-a4c5-4175ff455dc5"
   },
   "outputs": [
    {
     "name": "stdout",
     "output_type": "stream",
     "text": [
      "[1 2 3]\n"
     ]
    }
   ],
   "source": [
    "print(np.array([1, 2, 3]))"
   ]
  },
  {
   "cell_type": "markdown",
   "metadata": {
    "id": "m-a2OjRLAler"
   },
   "source": [
    "#### Atributos básicos pra um ndarray"
   ]
  },
  {
   "cell_type": "code",
   "execution_count": 5,
   "metadata": {
    "id": "2F7Q8ARYQwJK"
   },
   "outputs": [],
   "source": [
    "_array = np.array([1, 2, 3, 4])"
   ]
  },
  {
   "cell_type": "markdown",
   "metadata": {
    "id": "Qep8sX_FAles"
   },
   "source": [
    "O formato dele"
   ]
  },
  {
   "cell_type": "code",
   "execution_count": 6,
   "metadata": {
    "colab": {
     "base_uri": "https://localhost:8080/"
    },
    "id": "5t69lkgIAlet",
    "outputId": "eda2babc-e636-4ad4-a268-b52bf58019f6"
   },
   "outputs": [
    {
     "data": {
      "text/plain": [
       "(4,)"
      ]
     },
     "execution_count": 6,
     "metadata": {},
     "output_type": "execute_result"
    }
   ],
   "source": [
    "_array.shape"
   ]
  },
  {
   "cell_type": "markdown",
   "metadata": {
    "id": "f7dH5x2AAlet"
   },
   "source": [
    "Quantas dimensões ele tem"
   ]
  },
  {
   "cell_type": "code",
   "execution_count": 7,
   "metadata": {
    "colab": {
     "base_uri": "https://localhost:8080/"
    },
    "id": "NlyQd6_dAleu",
    "outputId": "9ce7c1d0-8031-4f1b-c66f-d9d963593118"
   },
   "outputs": [
    {
     "data": {
      "text/plain": [
       "1"
      ]
     },
     "execution_count": 7,
     "metadata": {},
     "output_type": "execute_result"
    }
   ],
   "source": [
    "_array.ndim"
   ]
  },
  {
   "cell_type": "markdown",
   "metadata": {
    "id": "GeEc62_KAleu"
   },
   "source": [
    "Obter o tipo dos elementos do array (número, letra, ...)"
   ]
  },
  {
   "cell_type": "code",
   "execution_count": 8,
   "metadata": {
    "colab": {
     "base_uri": "https://localhost:8080/"
    },
    "id": "-_wyr4cnAlev",
    "outputId": "62ec6a60-dec5-4520-fcaf-b13ea32114cc"
   },
   "outputs": [
    {
     "data": {
      "text/plain": [
       "dtype('int32')"
      ]
     },
     "execution_count": 8,
     "metadata": {},
     "output_type": "execute_result"
    }
   ],
   "source": [
    "_array.dtype"
   ]
  },
  {
   "cell_type": "markdown",
   "metadata": {
    "id": "2rgnYfvCAlev"
   },
   "source": [
    "#### Tipo de dados em um ndarray"
   ]
  },
  {
   "cell_type": "markdown",
   "metadata": {
    "id": "vdi4sDdLAlew"
   },
   "source": [
    "O dtype de um array do numpy pode ser controlado na hora que a gente cria."
   ]
  },
  {
   "cell_type": "code",
   "execution_count": 9,
   "metadata": {
    "colab": {
     "base_uri": "https://localhost:8080/"
    },
    "id": "VFZv4N_TAlew",
    "outputId": "3c9430b7-8d52-4dd0-d3e8-98ac71da6163"
   },
   "outputs": [
    {
     "name": "stdout",
     "output_type": "stream",
     "text": [
      "[1. 2. 3. 4.]\n"
     ]
    }
   ],
   "source": [
    "_array = np.array([1, 2, 3, 4], dtype=np.float16)\n",
    "print(_array)"
   ]
  },
  {
   "cell_type": "code",
   "execution_count": 10,
   "metadata": {
    "colab": {
     "base_uri": "https://localhost:8080/"
    },
    "id": "7_xAjJwxRlgi",
    "outputId": "39dfa7db-d344-42b0-b11a-997602d8d920"
   },
   "outputs": [
    {
     "data": {
      "text/plain": [
       "dtype('float16')"
      ]
     },
     "execution_count": 10,
     "metadata": {},
     "output_type": "execute_result"
    }
   ],
   "source": [
    "_array.dtype"
   ]
  },
  {
   "cell_type": "markdown",
   "metadata": {
    "id": "siv0V07eAlex"
   },
   "source": [
    "Mas quando a gente não define o tipo de dados?"
   ]
  },
  {
   "cell_type": "code",
   "execution_count": 11,
   "metadata": {
    "colab": {
     "base_uri": "https://localhost:8080/"
    },
    "id": "pzqIPzwwAlex",
    "outputId": "e82d5fc0-0a6c-4a4b-9afc-23f465bd06a5"
   },
   "outputs": [
    {
     "name": "stdout",
     "output_type": "stream",
     "text": [
      "[1. 2. 3.]\n",
      "float64\n"
     ]
    }
   ],
   "source": [
    "py_array_2 = [1.0,   2,  3.0]\n",
    "\n",
    "_array = np.array(py_array_2)\n",
    "\n",
    "print(_array)\n",
    "print(_array.dtype)"
   ]
  },
  {
   "cell_type": "code",
   "execution_count": 12,
   "metadata": {
    "colab": {
     "base_uri": "https://localhost:8080/"
    },
    "id": "6nVv2mFUSZ58",
    "outputId": "c02da012-f78a-4081-e4be-3796f19c02a3"
   },
   "outputs": [
    {
     "name": "stdout",
     "output_type": "stream",
     "text": [
      "['a' '2' '3']\n",
      "<U11\n"
     ]
    }
   ],
   "source": [
    "py_array_string = ['a',   2,  3]\n",
    "np_array_string = np.array(py_array_string)\n",
    "\n",
    "print(np_array_string)\n",
    "print(np_array_string.dtype)\n"
   ]
  },
  {
   "cell_type": "code",
   "execution_count": 13,
   "metadata": {
    "colab": {
     "base_uri": "https://localhost:8080/"
    },
    "id": "Ax55AEwlS4t6",
    "outputId": "83a66434-d91e-4234-f1a5-9e18a712581c"
   },
   "outputs": [
    {
     "name": "stdout",
     "output_type": "stream",
     "text": [
      "1\n",
      "(3,)\n"
     ]
    }
   ],
   "source": [
    "print(np_array_string.ndim)\n",
    "print(np_array_string.shape)"
   ]
  },
  {
   "cell_type": "code",
   "execution_count": 14,
   "metadata": {
    "colab": {
     "base_uri": "https://localhost:8080/"
    },
    "id": "fAgRFSzHWlbY",
    "outputId": "ef9b2bff-20b4-4651-da89-63a3702b6d98"
   },
   "outputs": [
    {
     "data": {
      "text/plain": [
       "array([-24], dtype=int8)"
      ]
     },
     "execution_count": 14,
     "metadata": {},
     "output_type": "execute_result"
    }
   ],
   "source": [
    "# E se o número for maior que a representação\n",
    "np.array([1000], dtype=np.int8)"
   ]
  },
  {
   "cell_type": "markdown",
   "metadata": {
    "id": "W8_BwV8fAley"
   },
   "source": [
    "#### Formas de inicializar Arrays"
   ]
  },
  {
   "cell_type": "markdown",
   "metadata": {
    "id": "sWaPnlWHAlez"
   },
   "source": [
    "[numpy zeros](https://numpy.org/doc/stable/reference/generated/numpy.zeros.html)"
   ]
  },
  {
   "cell_type": "code",
   "execution_count": 15,
   "metadata": {
    "colab": {
     "base_uri": "https://localhost:8080/"
    },
    "id": "IyfOWOHdAle0",
    "outputId": "0a7c6396-195b-4a3d-cce5-d1f9d996fe79"
   },
   "outputs": [
    {
     "data": {
      "text/plain": [
       "array([0., 0., 0., 0., 0., 0., 0., 0., 0., 0.])"
      ]
     },
     "execution_count": 15,
     "metadata": {},
     "output_type": "execute_result"
    }
   ],
   "source": [
    "# Array de zeros com np.zeros(n)\n",
    "np.zeros(10)"
   ]
  },
  {
   "cell_type": "code",
   "execution_count": 16,
   "metadata": {
    "colab": {
     "base_uri": "https://localhost:8080/"
    },
    "id": "n5Dd33QQU9fv",
    "outputId": "7a7e972e-f086-455e-d357-41b52ae84f52"
   },
   "outputs": [
    {
     "data": {
      "text/plain": [
       "array([[0., 0., 0.],\n",
       "       [0., 0., 0.],\n",
       "       [0., 0., 0.],\n",
       "       [0., 0., 0.],\n",
       "       [0., 0., 0.]])"
      ]
     },
     "execution_count": 16,
     "metadata": {},
     "output_type": "execute_result"
    }
   ],
   "source": [
    "# Criando array só com 1s com np.ones(n)\n",
    "np.zeros((5,3))"
   ]
  },
  {
   "cell_type": "code",
   "execution_count": 17,
   "metadata": {
    "colab": {
     "base_uri": "https://localhost:8080/"
    },
    "id": "eFV4WSibVcHJ",
    "outputId": "63f99b94-604f-4da5-a317-0f5014691b96"
   },
   "outputs": [
    {
     "data": {
      "text/plain": [
       "array([[0, 0, 0],\n",
       "       [0, 0, 0],\n",
       "       [0, 0, 0],\n",
       "       [0, 0, 0],\n",
       "       [0, 0, 0]], dtype=int8)"
      ]
     },
     "execution_count": 17,
     "metadata": {},
     "output_type": "execute_result"
    }
   ],
   "source": [
    "# Tipo Inteiro\n",
    "np.zeros((5,3), dtype=np.int8)"
   ]
  },
  {
   "cell_type": "markdown",
   "metadata": {
    "id": "aEK-5BoDAle0"
   },
   "source": [
    "[numpy ones](https://numpy.org/doc/stable/reference/generated/numpy.ones.html)"
   ]
  },
  {
   "cell_type": "code",
   "execution_count": 18,
   "metadata": {
    "colab": {
     "base_uri": "https://localhost:8080/"
    },
    "id": "ok2qiGECAle1",
    "outputId": "68dd5b71-cd9f-4dfd-9c93-421927f892b3"
   },
   "outputs": [
    {
     "data": {
      "text/plain": [
       "array([[1., 1., 1.],\n",
       "       [1., 1., 1.],\n",
       "       [1., 1., 1.],\n",
       "       [1., 1., 1.],\n",
       "       [1., 1., 1.]])"
      ]
     },
     "execution_count": 18,
     "metadata": {},
     "output_type": "execute_result"
    }
   ],
   "source": [
    "np.ones((5,3))"
   ]
  },
  {
   "cell_type": "markdown",
   "metadata": {
    "id": "Uuf5bWuoAle1"
   },
   "source": [
    "[numpy arange](https://numpy.org/doc/stable/reference/generated/numpy.arange.html#numpy-arange)"
   ]
  },
  {
   "cell_type": "code",
   "execution_count": 19,
   "metadata": {
    "colab": {
     "base_uri": "https://localhost:8080/"
    },
    "id": "rBtC5e0GAle2",
    "outputId": "0c5eecab-0b7f-4758-ffef-c47458674747"
   },
   "outputs": [
    {
     "data": {
      "text/plain": [
       "array([ 0,  2,  4,  6,  8, 10, 12, 14, 16, 18, 20, 22, 24, 26, 28, 30, 32,\n",
       "       34, 36, 38, 40, 42, 44, 46, 48, 50, 52, 54, 56, 58, 60, 62, 64, 66,\n",
       "       68, 70, 72, 74, 76, 78, 80, 82, 84, 86, 88, 90, 92, 94, 96, 98])"
      ]
     },
     "execution_count": 19,
     "metadata": {},
     "output_type": "execute_result"
    }
   ],
   "source": [
    "# Criando array de números em sequência com o np.arange() - análogo ao range()!\n",
    "np.arange(0, 100, 2)"
   ]
  },
  {
   "cell_type": "code",
   "execution_count": 20,
   "metadata": {},
   "outputs": [
    {
     "data": {
      "text/plain": [
       "array([0, 1, 2, 3, 4, 5, 6, 7, 8, 9])"
      ]
     },
     "execution_count": 20,
     "metadata": {},
     "output_type": "execute_result"
    }
   ],
   "source": [
    "# se der apenas um argumento, o padrão é começar em 0 com passo 1\n",
    "# ou seja, será uma sequência com o número indicado de elementos, iniciando em zero\n",
    "np.arange(10)"
   ]
  },
  {
   "cell_type": "markdown",
   "metadata": {
    "id": "WzOMGOx4Ale3"
   },
   "source": [
    "[numpy linspace](https://numpy.org/devdocs/reference/generated/numpy.linspace.html#numpy-linspace)"
   ]
  },
  {
   "cell_type": "markdown",
   "metadata": {
    "id": "Bw757uyDAle3"
   },
   "source": [
    "Gerar um array com **linspace** pode ser bastante útil quando queremos lidar com algumas situações em gráficos."
   ]
  },
  {
   "cell_type": "code",
   "execution_count": null,
   "metadata": {
    "id": "X1ufT6UDAle3"
   },
   "outputs": [],
   "source": []
  },
  {
   "cell_type": "markdown",
   "metadata": {
    "id": "eUSTN0tKAle4"
   },
   "source": [
    "[numpy random](https://numpy.org/doc/stable/reference/random/index.html#module-numpy.random)"
   ]
  },
  {
   "cell_type": "markdown",
   "metadata": {
    "id": "Lkq7c5eCAle4"
   },
   "source": [
    "Array com valores aleatorios de uma distribuição uniforme entre 0 e 1 (exclusivo)"
   ]
  },
  {
   "cell_type": "code",
   "execution_count": null,
   "metadata": {
    "id": "zdfgN_TxAle4"
   },
   "outputs": [],
   "source": []
  },
  {
   "cell_type": "markdown",
   "metadata": {
    "id": "6cTc9SODAle5"
   },
   "source": [
    "Array com inteiros aleatórios dentro de um intervalo"
   ]
  },
  {
   "cell_type": "code",
   "execution_count": null,
   "metadata": {
    "id": "OtJGClxIAle6"
   },
   "outputs": [],
   "source": []
  },
  {
   "cell_type": "markdown",
   "metadata": {
    "id": "ZCPGcb9rAle6"
   },
   "source": [
    "Fixando a seed: números aleatórios reproduzíveis"
   ]
  },
  {
   "cell_type": "code",
   "execution_count": null,
   "metadata": {
    "id": "rgjKOw-lAle6"
   },
   "outputs": [],
   "source": []
  },
  {
   "cell_type": "markdown",
   "metadata": {
    "id": "cp9S83ktAle7"
   },
   "source": [
    "Também conseguimos trabalhar com **distribuições estatísticas de probabilidade**. Vejamos, por exemplo, como é possível gerar números aleatórios que obedeçam a uma distribuição normal.\n",
    "\n",
    "<img src = \"https://www.allaboutcircuits.com/uploads/articles/an-introduction-to-the-normal-distribution-in-electrical-engineerin-rk-aac-image1.jpg\" />"
   ]
  },
  {
   "cell_type": "markdown",
   "metadata": {
    "id": "-yW3eqkKAle8"
   },
   "source": [
    "Array com números aleatórios de uma distribuição normal (gaussiana)"
   ]
  },
  {
   "cell_type": "code",
   "execution_count": null,
   "metadata": {
    "id": "Er6qDbamAle9"
   },
   "outputs": [],
   "source": []
  },
  {
   "cell_type": "markdown",
   "metadata": {
    "id": "g05ikoz8Ale9"
   },
   "source": [
    "__Uma pequena olhada...__\n",
    "\n",
    "plotando distribuições com o seaborn"
   ]
  },
  {
   "cell_type": "code",
   "execution_count": null,
   "metadata": {
    "id": "i0zuzLOtAle-"
   },
   "outputs": [],
   "source": []
  },
  {
   "cell_type": "markdown",
   "metadata": {},
   "source": [
    "#### Indexação\n",
    "\n",
    "É possível acessar elementos individuais dos arrays pelos **índices**, da mesma forma que fazemos com listas.\n",
    "\n",
    "<img src = \"https://numpy.org/devdocs/_images/np_indexing.png\" />"
   ]
  },
  {
   "cell_type": "code",
   "execution_count": null,
   "metadata": {},
   "outputs": [],
   "source": []
  },
  {
   "cell_type": "markdown",
   "metadata": {},
   "source": [
    "#### Trocando o tipo dos dados nas lista com o .astype()"
   ]
  },
  {
   "cell_type": "code",
   "execution_count": null,
   "metadata": {},
   "outputs": [],
   "source": []
  },
  {
   "cell_type": "markdown",
   "metadata": {
    "id": "0BMz-BFGAle-"
   },
   "source": [
    "#### Operações simples\n",
    "\n",
    "É possível fazer operações matemáticas **elemento a elemento** com os arrays, de forma bem simples:"
   ]
  },
  {
   "cell_type": "markdown",
   "metadata": {
    "ExecuteTime": {
     "end_time": "2020-01-04T20:59:48.500686Z",
     "start_time": "2020-01-04T20:59:48.495192Z"
    },
    "id": "qf1oOeYRAle_"
   },
   "source": [
    "Em numpy, as operações básicas (+, -, *, /, ...) funcionam elemento a elemento"
   ]
  },
  {
   "cell_type": "code",
   "execution_count": null,
   "metadata": {
    "id": "ktCpYNtiAle_"
   },
   "outputs": [],
   "source": []
  },
  {
   "cell_type": "markdown",
   "metadata": {
    "id": "lhy4FTjLAle_"
   },
   "source": [
    "#### Funções de Agregação"
   ]
  },
  {
   "cell_type": "markdown",
   "metadata": {
    "id": "aXq3OBo1AlfA"
   },
   "source": [
    "Maior valor"
   ]
  },
  {
   "cell_type": "code",
   "execution_count": null,
   "metadata": {
    "id": "Y05TMVtpAlfA"
   },
   "outputs": [],
   "source": []
  },
  {
   "cell_type": "markdown",
   "metadata": {
    "id": "UkxkQMwJAlfB"
   },
   "source": [
    "Indice do elemento máximo"
   ]
  },
  {
   "cell_type": "code",
   "execution_count": null,
   "metadata": {
    "id": "s5nMnja8AlfB"
   },
   "outputs": [],
   "source": []
  },
  {
   "cell_type": "markdown",
   "metadata": {
    "id": "1gGJsJIDAlfC"
   },
   "source": [
    "Menor valor"
   ]
  },
  {
   "cell_type": "code",
   "execution_count": null,
   "metadata": {
    "id": "2jxK7PT4AlfC"
   },
   "outputs": [],
   "source": []
  },
  {
   "cell_type": "markdown",
   "metadata": {
    "id": "UT03kBkJAlfD"
   },
   "source": [
    "Indice do elemento minimo"
   ]
  },
  {
   "cell_type": "code",
   "execution_count": null,
   "metadata": {
    "id": "DgpLf7C3AlfE"
   },
   "outputs": [],
   "source": []
  },
  {
   "cell_type": "markdown",
   "metadata": {
    "id": "bm_CtkBbAlfE"
   },
   "source": [
    "Soma de todos os items"
   ]
  },
  {
   "cell_type": "code",
   "execution_count": null,
   "metadata": {
    "id": "dUGBJAddAlfF"
   },
   "outputs": [],
   "source": []
  },
  {
   "cell_type": "markdown",
   "metadata": {
    "id": "fws255gvAlfF"
   },
   "source": [
    "Media dos elementos"
   ]
  },
  {
   "cell_type": "code",
   "execution_count": null,
   "metadata": {
    "id": "gCvjToR2AlfG"
   },
   "outputs": [],
   "source": []
  },
  {
   "cell_type": "markdown",
   "metadata": {
    "id": "7jZfnvnWAlfG"
   },
   "source": [
    "Desvio padrão"
   ]
  },
  {
   "cell_type": "code",
   "execution_count": null,
   "metadata": {
    "id": "6BnNAQSoAlfG"
   },
   "outputs": [],
   "source": []
  },
  {
   "cell_type": "markdown",
   "metadata": {
    "id": "RlEERJI-AlfH"
   },
   "source": [
    "Ordenar a lista"
   ]
  },
  {
   "cell_type": "code",
   "execution_count": null,
   "metadata": {
    "id": "aus88MK-AlfH"
   },
   "outputs": [],
   "source": []
  },
  {
   "cell_type": "markdown",
   "metadata": {},
   "source": [
    "#### Filtrando Dados\n",
    "\n",
    "Uma das funções mais importantes do numpy é a possibilidade de construção de **filtros**, que também são chamados de **máscaras**\n",
    "\n",
    "O objetivo dos filtros é **selecionar apenas os elementos de um array que satisfaçam determinada condição**"
   ]
  },
  {
   "cell_type": "markdown",
   "metadata": {},
   "source": [
    "Ao usar um **operador lógico** juntamente com um array, o numpy **aplica a operação lógica a cada um dos elementos do array**, retornando um **array de bools** com o resultado de cada uma das operações lógicas:"
   ]
  },
  {
   "cell_type": "markdown",
   "metadata": {},
   "source": [
    "Quais elementos do array são menores que um dado valor?"
   ]
  },
  {
   "cell_type": "code",
   "execution_count": null,
   "metadata": {},
   "outputs": [],
   "source": []
  },
  {
   "cell_type": "markdown",
   "metadata": {},
   "source": [
    "Quantos elementos são maiores que um dado valor?"
   ]
  },
  {
   "cell_type": "code",
   "execution_count": null,
   "metadata": {},
   "outputs": [],
   "source": []
  },
  {
   "cell_type": "markdown",
   "metadata": {},
   "source": [
    "Uma vez criado o filtro, é possível **utilizá-lo como indexador do array**, para selecionar **apenas os elementos com indice correspondente a True no filtro**"
   ]
  },
  {
   "cell_type": "code",
   "execution_count": null,
   "metadata": {},
   "outputs": [],
   "source": []
  },
  {
   "cell_type": "markdown",
   "metadata": {},
   "source": [
    "Também é possível aplicar **filtros compostos**!\n",
    "\n",
    "Pra fazer isso, nós fazems uma **composição lógica** entre os filtros (análogo ao \"and\" e ao \"or\")\n",
    "\n",
    "No caso de arrays, usamos:\n",
    "\n",
    "- \"&\" para \"and\"\n",
    "- \"|\" para \"or\"\n",
    "- \"~\" para \"not\""
   ]
  },
  {
   "cell_type": "code",
   "execution_count": null,
   "metadata": {},
   "outputs": [],
   "source": []
  },
  {
   "cell_type": "markdown",
   "metadata": {},
   "source": [
    "[np.where](https://numpy.org/doc/stable/reference/generated/numpy.where.html)"
   ]
  },
  {
   "cell_type": "code",
   "execution_count": null,
   "metadata": {},
   "outputs": [],
   "source": []
  },
  {
   "cell_type": "markdown",
   "metadata": {},
   "source": [
    "#### Matrizes\n",
    "\n",
    "Costumamos nos referir às **matrizes** como arrays multidimensionais (i.e., mais de uma dimensão).\n",
    "\n",
    "<img src = \"https://numpy.org/devdocs/_images/np_create_matrix.png\"/>"
   ]
  },
  {
   "cell_type": "code",
   "execution_count": 21,
   "metadata": {},
   "outputs": [
    {
     "data": {
      "text/plain": [
       "array([[1, 2],\n",
       "       [3, 4],\n",
       "       [5, 6]])"
      ]
     },
     "execution_count": 21,
     "metadata": {},
     "output_type": "execute_result"
    }
   ],
   "source": [
    "data = np.array([[1,2],[3,4],[5,6]])\n",
    "data"
   ]
  },
  {
   "cell_type": "markdown",
   "metadata": {},
   "source": [
    "Vamos repetir as operações que aprendemos para descrever um array!"
   ]
  },
  {
   "cell_type": "code",
   "execution_count": null,
   "metadata": {},
   "outputs": [],
   "source": []
  },
  {
   "cell_type": "markdown",
   "metadata": {},
   "source": [
    "Vamos aprender um função nova para mudar o formato da matriz"
   ]
  },
  {
   "cell_type": "markdown",
   "metadata": {},
   "source": [
    "[numpy.reshape](https://numpy.org/doc/stable/reference/generated/numpy.reshape.html)\n",
    "\n",
    "Em algumas situações, pode ser útil **reformatar** nosso conjunto de dados. Para isso, utilizamos a função *.reshape()*.\n",
    "\n",
    "**Atenção:** ao utilizar o reshape, o número de elementos total nunca pode ser alterado!\n",
    "\n",
    "<img src = \"https://numpy.org/devdocs/_images/np_reshape.png\" />"
   ]
  },
  {
   "cell_type": "code",
   "execution_count": null,
   "metadata": {},
   "outputs": [],
   "source": []
  },
  {
   "cell_type": "markdown",
   "metadata": {},
   "source": [
    "#### Indexação de matrizes\n",
    "\n",
    "<img src = \"https://numpy.org/devdocs/_images/np_matrix_indexing.png\" />"
   ]
  },
  {
   "cell_type": "code",
   "execution_count": null,
   "metadata": {},
   "outputs": [],
   "source": []
  },
  {
   "cell_type": "markdown",
   "metadata": {},
   "source": [
    "#### Agregações"
   ]
  },
  {
   "cell_type": "code",
   "execution_count": 22,
   "metadata": {},
   "outputs": [
    {
     "data": {
      "text/plain": [
       "array([[1, 2],\n",
       "       [5, 3],\n",
       "       [4, 6]])"
      ]
     },
     "execution_count": 22,
     "metadata": {},
     "output_type": "execute_result"
    }
   ],
   "source": [
    "data = np.array([[1,2],[5,3],[4,6]])\n",
    "data"
   ]
  },
  {
   "cell_type": "markdown",
   "metadata": {},
   "source": [
    "\n",
    "\n",
    "<img src = \"https://numpy.org/devdocs/_images/np_matrix_aggregation.png\" />"
   ]
  },
  {
   "cell_type": "code",
   "execution_count": null,
   "metadata": {},
   "outputs": [],
   "source": []
  },
  {
   "cell_type": "markdown",
   "metadata": {},
   "source": [
    "Também podemos ter situações em que gostaríamos de **agregar por linhas e/ou colunas**, o que também é possível, especificando o parâmetro *axis*, conforme abaixo.\n",
    "\n",
    "<img src = \"https://numpy.org/devdocs/_images/np_matrix_aggregation_row.png\" />"
   ]
  },
  {
   "cell_type": "markdown",
   "metadata": {},
   "source": [
    "\"axis = 0\" opera na direção das colunas, avaliando entre linhas"
   ]
  },
  {
   "cell_type": "code",
   "execution_count": null,
   "metadata": {},
   "outputs": [],
   "source": []
  },
  {
   "cell_type": "markdown",
   "metadata": {},
   "source": [
    "\"axis = 1\" opera na direação das linhas, avaliando entre colunas"
   ]
  },
  {
   "cell_type": "code",
   "execution_count": null,
   "metadata": {},
   "outputs": [],
   "source": []
  },
  {
   "cell_type": "markdown",
   "metadata": {},
   "source": [
    "#### Operações com matrizes"
   ]
  },
  {
   "cell_type": "markdown",
   "metadata": {},
   "source": [
    "Operações Elemetares (+, -, *, /)\n",
    "\n",
    "<img src=\"https://numpy.org/devdocs/_images/np_matrix_arithmetic.png\" />\n",
    "\n",
    "Diferentemente com arrays unidimensionais, conseguimos operar com matriz de tamanhos diferentes, **desde que sejam essencialmente um vetor-linha ou um vetor-coluna**.\n",
    "\n",
    "<img src = \"https://numpy.org/devdocs/_images/np_matrix_broadcasting.png\" />"
   ]
  },
  {
   "cell_type": "code",
   "execution_count": null,
   "metadata": {},
   "outputs": [],
   "source": []
  },
  {
   "cell_type": "markdown",
   "metadata": {},
   "source": [
    "Multiplicação de Matrizes \"tradicional\"\n",
    "\n",
    "[numpy.dot](https://numpy.org/doc/stable/reference/generated/numpy.dot.html)"
   ]
  },
  {
   "cell_type": "code",
   "execution_count": null,
   "metadata": {},
   "outputs": [],
   "source": []
  },
  {
   "cell_type": "markdown",
   "metadata": {},
   "source": [
    "Transposição de Matrizes\n",
    "\n",
    "Transpor a matriz equivale a \"trocar\" as linhas pelas colunas.\n",
    "\n",
    "[numpy.transpose](https://numpy.org/doc/stable/reference/generated/numpy.transpose.html)\n",
    "\n",
    "[numpy.ndarray.T](https://numpy.org/doc/stable/reference/generated/numpy.ndarray.T.html)\n",
    "\n",
    "<img src = \"https://numpy.org/devdocs/_images/np_transposing_reshaping.png\" />"
   ]
  },
  {
   "cell_type": "code",
   "execution_count": null,
   "metadata": {},
   "outputs": [],
   "source": []
  },
  {
   "cell_type": "markdown",
   "metadata": {},
   "source": [
    "#### Filtrando Dados\n",
    "\n",
    "Seguimos a mesma lógica de filtros em arrays unidimensionais, com a particularidade de que estamos lidando, agora, com mais de uma dimensão - e podemos levar isso em consideração."
   ]
  },
  {
   "cell_type": "code",
   "execution_count": null,
   "metadata": {},
   "outputs": [],
   "source": []
  }
 ],
 "metadata": {
  "colab": {
   "include_colab_link": true,
   "provenance": []
  },
  "kernelspec": {
   "display_name": "Python 3 (ipykernel)",
   "language": "python",
   "name": "python3"
  },
  "language_info": {
   "codemirror_mode": {
    "name": "ipython",
    "version": 3
   },
   "file_extension": ".py",
   "mimetype": "text/x-python",
   "name": "python",
   "nbconvert_exporter": "python",
   "pygments_lexer": "ipython3",
   "version": "3.9.12"
  },
  "vscode": {
   "interpreter": {
    "hash": "38d4061a99e7c6638a090ce08c14a66640e6088dc5ef74a7f33c8fdd952ca81d"
   }
  }
 },
 "nbformat": 4,
 "nbformat_minor": 1
}
