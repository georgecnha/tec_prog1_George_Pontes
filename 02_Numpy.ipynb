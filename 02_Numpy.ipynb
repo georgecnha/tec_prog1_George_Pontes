{
 "cells": [
  {
   "cell_type": "markdown",
   "metadata": {
    "id": "ck4mz0HzAleV"
   },
   "source": [
    "<img src=\"https://upload.wikimedia.org/wikipedia/commons/thumb/3/31/NumPy_logo_2020.svg/2560px-NumPy_logo_2020.svg.png\" alt=\"Alternative text\" />"
   ]
  },
  {
   "cell_type": "markdown",
   "metadata": {
    "id": "eGVnLJMDAleX"
   },
   "source": [
    "A biblioteca **NumPy** _(Numerical Python)_ proporciona uma forma eficiente de armazenagem e processamento de conjuntos de dados, e é utilizada como base para a construção da biblioteca Pandas, que estudaremos a seguir.\n",
    "\n",
    "O diferencial do Numpy é sua velocidade e eficiência, o que faz com que ela seja amplamente utilizada para computação científica e análise de dados. \n",
    "\n",
    "A velocidade e eficiência é possível graças à estrutura chamada **numpy array**, que é um forma eficiente de guardar e manipular matrizes, que serve como base para as tabelas que iremos utilizar."
   ]
  },
  {
   "cell_type": "markdown",
   "metadata": {
    "id": "RvWTYJ8QAlea"
   },
   "source": [
    "[Guia rápido de uso da biblioteca](https://numpy.org/devdocs/user/quickstart.html)\n",
    "\n",
    "[Guia para iniciantes](https://numpy.org/devdocs/user/absolute_beginners.html)"
   ]
  },
  {
   "cell_type": "markdown",
   "metadata": {
    "id": "wVMzQ3HKAled"
   },
   "source": [
    "___"
   ]
  },
  {
   "cell_type": "markdown",
   "metadata": {
    "id": "Wgn4cJ7IAlee"
   },
   "source": [
    "Qual a diferença entre um numpy array e uma lista?"
   ]
  },
  {
   "cell_type": "markdown",
   "metadata": {
    "id": "ksLymSzkAleg"
   },
   "source": [
    "**numpy array:** armazena somente um tipo de dado (homogêneo), ocupando menos memória. É pensado para maior eficiência de cálculo.\n",
    "\n",
    "**lista:** permite armazenar dados de vários tipos."
   ]
  },
  {
   "cell_type": "code",
   "execution_count": 1,
   "metadata": {
    "colab": {
     "base_uri": "https://localhost:8080/"
    },
    "id": "jMaym1x2Alei",
    "outputId": "31e188eb-e39c-4cd2-f62b-535e061eda5a"
   },
   "outputs": [
    {
     "data": {
      "text/plain": [
       "['a', 2, 2.4, True, [1, 3], {'a:1'}]"
      ]
     },
     "execution_count": 1,
     "metadata": {},
     "output_type": "execute_result"
    }
   ],
   "source": [
    "lista = [\"a\", 2, 2.4, True, [1,3], {\"a:1\"}]\n",
    "lista"
   ]
  },
  {
   "cell_type": "code",
   "execution_count": 2,
   "metadata": {
    "colab": {
     "base_uri": "https://localhost:8080/"
    },
    "id": "kCQkatJBAlel",
    "outputId": "e8cbd124-c66d-425a-b3cb-b33e2fb96e2d"
   },
   "outputs": [
    {
     "data": {
      "text/plain": [
       "['a', 2, 2.4, True, [1, 3], {'a:1'}, 'Olá']"
      ]
     },
     "execution_count": 2,
     "metadata": {},
     "output_type": "execute_result"
    }
   ],
   "source": [
    "lista.append(\"Olá\")\n",
    "lista"
   ]
  },
  {
   "cell_type": "markdown",
   "metadata": {
    "id": "Avy6UMuuAlen"
   },
   "source": [
    "Importando o numpy"
   ]
  },
  {
   "cell_type": "code",
   "execution_count": 3,
   "metadata": {
    "id": "4zSMWRnqAleo"
   },
   "outputs": [],
   "source": [
    "import numpy as np"
   ]
  },
  {
   "cell_type": "markdown",
   "metadata": {
    "id": "up_efyA7Aleo"
   },
   "source": [
    "### Arrays em numpy"
   ]
  },
  {
   "cell_type": "markdown",
   "metadata": {
    "id": "h4MGlQTLAlep"
   },
   "source": [
    "<img src = \"https://numpy.org/devdocs/_images/np_array.png\" />"
   ]
  },
  {
   "cell_type": "markdown",
   "metadata": {
    "id": "YEofh7adAleq"
   },
   "source": [
    "#### Criando arrays\n",
    "\n",
    "Pra criar arrays a partir de uma lista, basta utilizar a função **np.array()**"
   ]
  },
  {
   "cell_type": "code",
   "execution_count": 4,
   "metadata": {
    "colab": {
     "base_uri": "https://localhost:8080/"
    },
    "id": "_XnrmT2yAler",
    "outputId": "a88c2df9-aaed-4bd2-a4c5-4175ff455dc5"
   },
   "outputs": [
    {
     "name": "stdout",
     "output_type": "stream",
     "text": [
      "[1 2 3]\n"
     ]
    }
   ],
   "source": [
    "print(np.array([1, 2, 3]))"
   ]
  },
  {
   "cell_type": "markdown",
   "metadata": {
    "id": "m-a2OjRLAler"
   },
   "source": [
    "#### Atributos básicos pra um ndarray"
   ]
  },
  {
   "cell_type": "code",
   "execution_count": 5,
   "metadata": {
    "id": "2F7Q8ARYQwJK"
   },
   "outputs": [],
   "source": [
    "_array = np.array([1, 2, 3, 4])"
   ]
  },
  {
   "cell_type": "markdown",
   "metadata": {
    "id": "Qep8sX_FAles"
   },
   "source": [
    "O formato dele"
   ]
  },
  {
   "cell_type": "code",
   "execution_count": 6,
   "metadata": {
    "colab": {
     "base_uri": "https://localhost:8080/"
    },
    "id": "5t69lkgIAlet",
    "outputId": "eda2babc-e636-4ad4-a268-b52bf58019f6"
   },
   "outputs": [
    {
     "data": {
      "text/plain": [
       "(4,)"
      ]
     },
     "execution_count": 6,
     "metadata": {},
     "output_type": "execute_result"
    }
   ],
   "source": [
    "_array.shape"
   ]
  },
  {
   "cell_type": "markdown",
   "metadata": {
    "id": "f7dH5x2AAlet"
   },
   "source": [
    "Quantas dimensões ele tem"
   ]
  },
  {
   "cell_type": "code",
   "execution_count": 7,
   "metadata": {
    "colab": {
     "base_uri": "https://localhost:8080/"
    },
    "id": "NlyQd6_dAleu",
    "outputId": "9ce7c1d0-8031-4f1b-c66f-d9d963593118"
   },
   "outputs": [
    {
     "data": {
      "text/plain": [
       "1"
      ]
     },
     "execution_count": 7,
     "metadata": {},
     "output_type": "execute_result"
    }
   ],
   "source": [
    "_array.ndim"
   ]
  },
  {
   "cell_type": "markdown",
   "metadata": {
    "id": "GeEc62_KAleu"
   },
   "source": [
    "Obter o tipo dos elementos do array (número, letra, ...)"
   ]
  },
  {
   "cell_type": "code",
   "execution_count": 8,
   "metadata": {
    "colab": {
     "base_uri": "https://localhost:8080/"
    },
    "id": "-_wyr4cnAlev",
    "outputId": "62ec6a60-dec5-4520-fcaf-b13ea32114cc"
   },
   "outputs": [
    {
     "data": {
      "text/plain": [
       "dtype('int32')"
      ]
     },
     "execution_count": 8,
     "metadata": {},
     "output_type": "execute_result"
    }
   ],
   "source": [
    "_array.dtype"
   ]
  },
  {
   "cell_type": "markdown",
   "metadata": {
    "id": "2rgnYfvCAlev"
   },
   "source": [
    "#### Tipo de dados em um ndarray"
   ]
  },
  {
   "cell_type": "markdown",
   "metadata": {
    "id": "vdi4sDdLAlew"
   },
   "source": [
    "O dtype de um array do numpy pode ser controlado na hora que a gente cria."
   ]
  },
  {
   "cell_type": "code",
   "execution_count": 9,
   "metadata": {
    "colab": {
     "base_uri": "https://localhost:8080/"
    },
    "id": "VFZv4N_TAlew",
    "outputId": "3c9430b7-8d52-4dd0-d3e8-98ac71da6163"
   },
   "outputs": [
    {
     "name": "stdout",
     "output_type": "stream",
     "text": [
      "[1. 2. 3. 4.]\n"
     ]
    }
   ],
   "source": [
    "_array = np.array([1, 2, 3, 4], dtype=np.float16)\n",
    "print(_array)"
   ]
  },
  {
   "cell_type": "code",
   "execution_count": 10,
   "metadata": {
    "colab": {
     "base_uri": "https://localhost:8080/"
    },
    "id": "7_xAjJwxRlgi",
    "outputId": "39dfa7db-d344-42b0-b11a-997602d8d920"
   },
   "outputs": [
    {
     "data": {
      "text/plain": [
       "dtype('float16')"
      ]
     },
     "execution_count": 10,
     "metadata": {},
     "output_type": "execute_result"
    }
   ],
   "source": [
    "_array.dtype"
   ]
  },
  {
   "cell_type": "markdown",
   "metadata": {
    "id": "siv0V07eAlex"
   },
   "source": [
    "Mas quando a gente não define o tipo de dados?"
   ]
  },
  {
   "cell_type": "code",
   "execution_count": 11,
   "metadata": {
    "colab": {
     "base_uri": "https://localhost:8080/"
    },
    "id": "pzqIPzwwAlex",
    "outputId": "e82d5fc0-0a6c-4a4b-9afc-23f465bd06a5"
   },
   "outputs": [
    {
     "name": "stdout",
     "output_type": "stream",
     "text": [
      "[1. 2. 3.]\n",
      "float64\n"
     ]
    }
   ],
   "source": [
    "py_array_2 = [1.0,   2,  3.0]\n",
    "\n",
    "_array = np.array(py_array_2)\n",
    "\n",
    "print(_array)\n",
    "print(_array.dtype)"
   ]
  },
  {
   "cell_type": "code",
   "execution_count": 12,
   "metadata": {
    "colab": {
     "base_uri": "https://localhost:8080/"
    },
    "id": "6nVv2mFUSZ58",
    "outputId": "c02da012-f78a-4081-e4be-3796f19c02a3"
   },
   "outputs": [
    {
     "name": "stdout",
     "output_type": "stream",
     "text": [
      "['a' '2' '3']\n",
      "<U11\n"
     ]
    }
   ],
   "source": [
    "py_array_string = ['a',   2,  3]\n",
    "np_array_string = np.array(py_array_string)\n",
    "\n",
    "print(np_array_string)\n",
    "print(np_array_string.dtype)\n"
   ]
  },
  {
   "cell_type": "code",
   "execution_count": 13,
   "metadata": {
    "colab": {
     "base_uri": "https://localhost:8080/"
    },
    "id": "Ax55AEwlS4t6",
    "outputId": "83a66434-d91e-4234-f1a5-9e18a712581c"
   },
   "outputs": [
    {
     "name": "stdout",
     "output_type": "stream",
     "text": [
      "1\n",
      "(3,)\n"
     ]
    }
   ],
   "source": [
    "print(np_array_string.ndim)\n",
    "print(np_array_string.shape)"
   ]
  },
  {
   "cell_type": "code",
   "execution_count": 14,
   "metadata": {
    "colab": {
     "base_uri": "https://localhost:8080/"
    },
    "id": "fAgRFSzHWlbY",
    "outputId": "ef9b2bff-20b4-4651-da89-63a3702b6d98"
   },
   "outputs": [
    {
     "data": {
      "text/plain": [
       "array([-24], dtype=int8)"
      ]
     },
     "execution_count": 14,
     "metadata": {},
     "output_type": "execute_result"
    }
   ],
   "source": [
    "# E se o número for maior que a representação\n",
    "np.array([1000], dtype=np.int8)"
   ]
  },
  {
   "cell_type": "markdown",
   "metadata": {
    "id": "W8_BwV8fAley"
   },
   "source": [
    "#### Formas de inicializar Arrays"
   ]
  },
  {
   "cell_type": "markdown",
   "metadata": {
    "id": "sWaPnlWHAlez"
   },
   "source": [
    "[numpy zeros](https://numpy.org/doc/stable/reference/generated/numpy.zeros.html)"
   ]
  },
  {
   "cell_type": "code",
   "execution_count": 15,
   "metadata": {
    "colab": {
     "base_uri": "https://localhost:8080/"
    },
    "id": "IyfOWOHdAle0",
    "outputId": "0a7c6396-195b-4a3d-cce5-d1f9d996fe79"
   },
   "outputs": [
    {
     "data": {
      "text/plain": [
       "array([0., 0., 0., 0., 0., 0., 0., 0., 0., 0.])"
      ]
     },
     "execution_count": 15,
     "metadata": {},
     "output_type": "execute_result"
    }
   ],
   "source": [
    "# Array de zeros com np.zeros(n)\n",
    "np.zeros(10)"
   ]
  },
  {
   "cell_type": "code",
   "execution_count": 16,
   "metadata": {
    "colab": {
     "base_uri": "https://localhost:8080/"
    },
    "id": "n5Dd33QQU9fv",
    "outputId": "7a7e972e-f086-455e-d357-41b52ae84f52"
   },
   "outputs": [
    {
     "data": {
      "text/plain": [
       "array([[0., 0., 0.],\n",
       "       [0., 0., 0.],\n",
       "       [0., 0., 0.],\n",
       "       [0., 0., 0.],\n",
       "       [0., 0., 0.]])"
      ]
     },
     "execution_count": 16,
     "metadata": {},
     "output_type": "execute_result"
    }
   ],
   "source": [
    "# Criando array só com 1s com np.ones(n)\n",
    "np.zeros((5,3))"
   ]
  },
  {
   "cell_type": "code",
   "execution_count": 17,
   "metadata": {
    "colab": {
     "base_uri": "https://localhost:8080/"
    },
    "id": "eFV4WSibVcHJ",
    "outputId": "63f99b94-604f-4da5-a317-0f5014691b96"
   },
   "outputs": [
    {
     "data": {
      "text/plain": [
       "array([[0, 0, 0],\n",
       "       [0, 0, 0],\n",
       "       [0, 0, 0],\n",
       "       [0, 0, 0],\n",
       "       [0, 0, 0]], dtype=int8)"
      ]
     },
     "execution_count": 17,
     "metadata": {},
     "output_type": "execute_result"
    }
   ],
   "source": [
    "# Tipo Inteiro\n",
    "np.zeros((5,3), dtype=np.int8)"
   ]
  },
  {
   "cell_type": "markdown",
   "metadata": {
    "id": "aEK-5BoDAle0"
   },
   "source": [
    "[numpy ones](https://numpy.org/doc/stable/reference/generated/numpy.ones.html)"
   ]
  },
  {
   "cell_type": "code",
   "execution_count": 18,
   "metadata": {
    "colab": {
     "base_uri": "https://localhost:8080/"
    },
    "id": "ok2qiGECAle1",
    "outputId": "68dd5b71-cd9f-4dfd-9c93-421927f892b3"
   },
   "outputs": [
    {
     "data": {
      "text/plain": [
       "array([[1., 1., 1.],\n",
       "       [1., 1., 1.],\n",
       "       [1., 1., 1.],\n",
       "       [1., 1., 1.],\n",
       "       [1., 1., 1.]])"
      ]
     },
     "execution_count": 18,
     "metadata": {},
     "output_type": "execute_result"
    }
   ],
   "source": [
    "np.ones((5,3))"
   ]
  },
  {
   "cell_type": "markdown",
   "metadata": {
    "id": "Uuf5bWuoAle1"
   },
   "source": [
    "[numpy arange](https://numpy.org/doc/stable/reference/generated/numpy.arange.html#numpy-arange)"
   ]
  },
  {
   "cell_type": "code",
   "execution_count": 19,
   "metadata": {
    "colab": {
     "base_uri": "https://localhost:8080/"
    },
    "id": "rBtC5e0GAle2",
    "outputId": "0c5eecab-0b7f-4758-ffef-c47458674747"
   },
   "outputs": [
    {
     "data": {
      "text/plain": [
       "array([ 0,  2,  4,  6,  8, 10, 12, 14, 16, 18, 20, 22, 24, 26, 28, 30, 32,\n",
       "       34, 36, 38, 40, 42, 44, 46, 48, 50, 52, 54, 56, 58, 60, 62, 64, 66,\n",
       "       68, 70, 72, 74, 76, 78, 80, 82, 84, 86, 88, 90, 92, 94, 96, 98])"
      ]
     },
     "execution_count": 19,
     "metadata": {},
     "output_type": "execute_result"
    }
   ],
   "source": [
    "# Criando array de números em sequência com o np.arange() - análogo ao range()!\n",
    "np.arange(0, 100, 2)"
   ]
  },
  {
   "cell_type": "code",
   "execution_count": 20,
   "metadata": {},
   "outputs": [
    {
     "data": {
      "text/plain": [
       "array([0, 1, 2, 3, 4, 5, 6, 7, 8, 9])"
      ]
     },
     "execution_count": 20,
     "metadata": {},
     "output_type": "execute_result"
    }
   ],
   "source": [
    "# se der apenas um argumento, o padrão é começar em 0 com passo 1\n",
    "# ou seja, será uma sequência com o número indicado de elementos, iniciando em zero\n",
    "np.arange(10)"
   ]
  },
  {
   "cell_type": "markdown",
   "metadata": {
    "id": "WzOMGOx4Ale3"
   },
   "source": [
    "[numpy linspace](https://numpy.org/devdocs/reference/generated/numpy.linspace.html#numpy-linspace)"
   ]
  },
  {
   "cell_type": "markdown",
   "metadata": {
    "id": "Bw757uyDAle3"
   },
   "source": [
    "Gerar um array com **linspace** pode ser bastante útil quando queremos lidar com algumas situações em gráficos."
   ]
  },
  {
   "cell_type": "code",
   "execution_count": 21,
   "metadata": {
    "id": "X1ufT6UDAle3"
   },
   "outputs": [
    {
     "data": {
      "text/plain": [
       "array([0.        , 0.01010101, 0.02020202, 0.03030303, 0.04040404,\n",
       "       0.05050505, 0.06060606, 0.07070707, 0.08080808, 0.09090909,\n",
       "       0.1010101 , 0.11111111, 0.12121212, 0.13131313, 0.14141414,\n",
       "       0.15151515, 0.16161616, 0.17171717, 0.18181818, 0.19191919,\n",
       "       0.2020202 , 0.21212121, 0.22222222, 0.23232323, 0.24242424,\n",
       "       0.25252525, 0.26262626, 0.27272727, 0.28282828, 0.29292929,\n",
       "       0.3030303 , 0.31313131, 0.32323232, 0.33333333, 0.34343434,\n",
       "       0.35353535, 0.36363636, 0.37373737, 0.38383838, 0.39393939,\n",
       "       0.4040404 , 0.41414141, 0.42424242, 0.43434343, 0.44444444,\n",
       "       0.45454545, 0.46464646, 0.47474747, 0.48484848, 0.49494949,\n",
       "       0.50505051, 0.51515152, 0.52525253, 0.53535354, 0.54545455,\n",
       "       0.55555556, 0.56565657, 0.57575758, 0.58585859, 0.5959596 ,\n",
       "       0.60606061, 0.61616162, 0.62626263, 0.63636364, 0.64646465,\n",
       "       0.65656566, 0.66666667, 0.67676768, 0.68686869, 0.6969697 ,\n",
       "       0.70707071, 0.71717172, 0.72727273, 0.73737374, 0.74747475,\n",
       "       0.75757576, 0.76767677, 0.77777778, 0.78787879, 0.7979798 ,\n",
       "       0.80808081, 0.81818182, 0.82828283, 0.83838384, 0.84848485,\n",
       "       0.85858586, 0.86868687, 0.87878788, 0.88888889, 0.8989899 ,\n",
       "       0.90909091, 0.91919192, 0.92929293, 0.93939394, 0.94949495,\n",
       "       0.95959596, 0.96969697, 0.97979798, 0.98989899, 1.        ])"
      ]
     },
     "execution_count": 21,
     "metadata": {},
     "output_type": "execute_result"
    }
   ],
   "source": [
    "np.linspace(0,1,100)"
   ]
  },
  {
   "cell_type": "markdown",
   "metadata": {
    "id": "eUSTN0tKAle4"
   },
   "source": [
    "[numpy random](https://numpy.org/doc/stable/reference/random/index.html#module-numpy.random)"
   ]
  },
  {
   "cell_type": "markdown",
   "metadata": {
    "id": "Lkq7c5eCAle4"
   },
   "source": [
    "Array com valores aleatorios de uma distribuição uniforme entre 0 e 1 (exclusivo)"
   ]
  },
  {
   "cell_type": "code",
   "execution_count": 22,
   "metadata": {
    "id": "zdfgN_TxAle4"
   },
   "outputs": [
    {
     "data": {
      "text/plain": [
       "array([0.35011022, 0.54714548, 0.77440493, 0.021774  , 0.86650347,\n",
       "       0.29467226, 0.05645891, 0.46485418, 0.31895292, 0.31402921])"
      ]
     },
     "execution_count": 22,
     "metadata": {},
     "output_type": "execute_result"
    }
   ],
   "source": [
    "np.random.rand(10)"
   ]
  },
  {
   "cell_type": "code",
   "execution_count": 23,
   "metadata": {},
   "outputs": [
    {
     "data": {
      "text/plain": [
       "array([50.65231895, 40.85338161, 36.39586457, 25.2399955 , 29.23970368,\n",
       "       41.05479148,  0.33341168,  7.97588117, 53.5125071 , 46.91516604])"
      ]
     },
     "execution_count": 23,
     "metadata": {},
     "output_type": "execute_result"
    }
   ],
   "source": [
    "np.random.rand(10)*55 #até 55"
   ]
  },
  {
   "cell_type": "markdown",
   "metadata": {
    "id": "6cTc9SODAle5"
   },
   "source": [
    "Array com inteiros aleatórios dentro de um intervalo"
   ]
  },
  {
   "cell_type": "code",
   "execution_count": 24,
   "metadata": {
    "id": "OtJGClxIAle6"
   },
   "outputs": [
    {
     "data": {
      "text/plain": [
       "array([ 8, 17, 14, 33, 61, 42, 83, 11, 76, 49,  5, 26, 62, 74, 36])"
      ]
     },
     "execution_count": 24,
     "metadata": {},
     "output_type": "execute_result"
    }
   ],
   "source": [
    "np.random.randint(0,100,15)"
   ]
  },
  {
   "cell_type": "markdown",
   "metadata": {
    "id": "ZCPGcb9rAle6"
   },
   "source": [
    "Fixando a seed: números aleatórios reproduzíveis"
   ]
  },
  {
   "cell_type": "code",
   "execution_count": 25,
   "metadata": {
    "id": "rgjKOw-lAle6"
   },
   "outputs": [
    {
     "data": {
      "text/plain": [
       "array([ 9, 13,  4,  0,  1, 11, 12,  9, 13,  0, 13,  1, 10,  8,  9,  0, 10,\n",
       "        8,  6,  4])"
      ]
     },
     "execution_count": 25,
     "metadata": {},
     "output_type": "execute_result"
    }
   ],
   "source": [
    "np.random.seed(10)\n",
    "np.random.randint(0, 15, 20)"
   ]
  },
  {
   "cell_type": "markdown",
   "metadata": {
    "id": "cp9S83ktAle7"
   },
   "source": [
    "Também conseguimos trabalhar com **distribuições estatísticas de probabilidade**. Vejamos, por exemplo, como é possível gerar números aleatórios que obedeçam a uma distribuição normal.\n",
    "\n",
    "<img src = \"https://www.allaboutcircuits.com/uploads/articles/an-introduction-to-the-normal-distribution-in-electrical-engineerin-rk-aac-image1.jpg\" />"
   ]
  },
  {
   "cell_type": "markdown",
   "metadata": {
    "id": "-yW3eqkKAle8"
   },
   "source": [
    "Array com números aleatórios de uma distribuição normal (gaussiana)"
   ]
  },
  {
   "cell_type": "code",
   "execution_count": 26,
   "metadata": {
    "id": "Er6qDbamAle9"
   },
   "outputs": [
    {
     "data": {
      "text/plain": [
       "array([ 9.65666141e-01,  5.60663943e-01,  7.49931629e-01, -3.14559631e-01,\n",
       "        3.66248578e-01,  6.08088563e-01, -1.08684028e+00,  1.20559017e-01,\n",
       "        1.40202525e+00, -4.34259100e-01, -1.25424191e+00,  3.31578554e-01,\n",
       "       -3.08600486e-01, -1.53735485e-01,  6.78931195e-01, -1.91355421e+00,\n",
       "       -9.42458056e-01, -1.74554298e+00, -1.02094527e+00, -1.62069026e-01,\n",
       "       -6.57970900e-01,  4.22113062e-01,  6.24023338e-01,  5.01640096e-01,\n",
       "        8.41434727e-01, -1.64024998e+00,  1.05800516e+00, -9.17844425e-02,\n",
       "       -7.24034593e-01, -4.00460357e-01,  4.45324584e-01,  9.59939649e-01,\n",
       "       -1.34635384e+00,  2.01889937e+00,  1.08237635e+00, -1.78571782e+00,\n",
       "       -2.72336983e-01, -2.90368389e-01,  1.65614717e+00, -1.23456870e+00,\n",
       "       -1.05768472e+00,  1.38413985e-01, -8.59000437e-02, -1.36230510e-01,\n",
       "       -1.13711521e+00,  6.38135807e-01, -4.91603949e-01, -1.24628501e+00,\n",
       "       -3.79932077e-01, -2.71258134e-01, -1.45463451e+00,  4.51675448e-01,\n",
       "        1.12480673e+00,  2.66987296e+00,  1.33309960e+00, -9.67642192e-01,\n",
       "       -2.51439330e-01,  2.20660564e-01, -1.53936142e+00,  7.43417703e-01,\n",
       "       -5.65432678e-01,  7.85022774e-03, -1.12679091e+00,  1.51381600e+00,\n",
       "       -6.07294486e-01,  4.18322296e-01,  9.86556751e-01, -3.01359036e-01,\n",
       "       -1.76334789e-02,  5.99116098e-01, -3.02605287e-01, -7.45465858e-01,\n",
       "       -1.28522976e-01,  1.24799151e+00,  1.06226014e+00, -1.62863338e+00,\n",
       "        1.12427714e-01, -9.91502512e-01,  6.78795340e-01,  4.09706815e-01,\n",
       "       -4.89514045e-01, -9.82034067e-03, -1.32018186e+00,  4.25741215e-01,\n",
       "        4.66485877e-01, -4.02870652e-01, -1.27210147e-03, -7.24976485e-01,\n",
       "       -7.95848952e-01, -1.15808722e+00,  5.74218074e-01,  9.32622324e-01,\n",
       "        9.09150182e-02, -1.47399517e+00,  1.10558058e-01,  2.53679951e-01,\n",
       "        2.64881788e-01,  7.24772178e-01, -5.35354879e-01, -1.90604927e-01,\n",
       "       -4.70676608e-01, -3.62615081e-01, -7.88567563e-01,  1.25656950e+00,\n",
       "       -1.20646161e+00,  2.82526070e-01, -4.99244987e-01,  5.00687953e-01,\n",
       "        1.37119341e+00, -7.12783003e-01, -3.47296739e-01, -1.26406441e+00,\n",
       "        6.86294613e-01, -1.20170603e+00,  6.25200809e-01,  4.93573052e-01,\n",
       "        6.22949691e-01, -4.09042717e-01, -3.17792019e-01, -9.18500107e-01,\n",
       "        4.88289131e-01,  1.93506045e-01,  1.90146674e+00,  6.49440883e-01,\n",
       "       -1.34372190e-01, -2.27224638e-01, -1.22095862e-01, -3.69997946e-02,\n",
       "        1.77792836e+00,  1.68416227e+00, -1.01241894e-01, -1.58267005e+00,\n",
       "        1.06533737e+00,  1.34791154e-01,  4.84583820e-02, -3.66180191e-02,\n",
       "        6.74608932e-01,  1.03721415e+00, -9.02751516e-01, -1.71127559e+00,\n",
       "        8.32525895e-01,  8.29251786e-01, -1.51922496e+00, -1.39566483e+00,\n",
       "        4.69654901e-01,  6.20688024e-01,  5.05927341e-01, -6.65298285e-01,\n",
       "        7.13205756e-01,  1.60407693e-01, -8.61148216e-01, -1.81355021e-01,\n",
       "        3.09256305e-01,  5.83539499e-01, -1.70248659e+00, -6.40579403e-01,\n",
       "       -4.06393493e-01, -1.72494118e+00, -1.59832368e+00,  1.26149721e+00,\n",
       "       -5.80700695e-01, -6.97676600e-02, -2.24550829e-01, -1.62619750e+00,\n",
       "       -7.16879837e-02,  8.60305368e-02, -1.36993105e+00, -1.01037106e+00,\n",
       "       -9.43652408e-01,  9.20108122e-01, -1.26893888e+00, -1.34290066e+00,\n",
       "        3.03792725e-01, -1.68276115e+00, -8.56373383e-01, -1.07553265e+00,\n",
       "       -1.66521307e+00, -1.63913029e+00,  2.28071997e+00,  8.22922652e-01,\n",
       "       -7.88786815e-01,  1.28781920e-01, -8.38485438e-01, -1.63397285e+00,\n",
       "       -6.79806144e-01, -8.47589176e-01, -5.68196018e-02, -3.06760513e-01,\n",
       "        1.74771143e+00,  3.18341826e-01,  4.88139287e-01, -4.45047149e-02,\n",
       "        3.48780123e-01, -1.45817367e-01, -1.37880497e+00,  1.48079109e+00,\n",
       "       -7.34288059e-01, -7.62490646e-01,  7.63195016e-01, -1.19609425e+00,\n",
       "       -1.18957541e+00, -1.56494874e+00,  6.20435365e-01, -3.75636200e-01,\n",
       "        2.77563122e-01,  3.66503841e-01, -3.73629925e-01, -1.28614967e+00,\n",
       "        1.41318047e+00, -2.56392096e-01,  1.24408350e+00,  2.41369066e-01,\n",
       "       -9.85086418e-01,  1.20015554e+00, -1.76892394e+00, -1.68773887e+00,\n",
       "        1.90548332e+00,  1.37245823e+00, -2.02221704e-01, -4.43813847e-01,\n",
       "       -2.54017453e+00, -1.02124288e+00, -7.67847444e-01,  7.77824513e-01,\n",
       "       -1.36280316e+00,  4.47543172e-01, -5.04269981e-01, -2.00251769e-01,\n",
       "        7.37223878e-01,  1.48215864e+00,  3.50787221e-01, -7.17042661e-01,\n",
       "        2.40527423e-01,  1.65347736e-01,  4.58530318e-02,  1.50107627e+00,\n",
       "       -3.56817862e-01, -4.86026337e-01,  1.34037604e+00,  5.81844413e-01,\n",
       "       -2.18687486e+00,  6.18369855e-01, -9.38191008e-01,  1.70723500e+00,\n",
       "        1.36000484e+00, -9.26636205e-01,  1.46247373e+00, -9.18219392e-01,\n",
       "       -2.19230214e+00,  1.73395636e+00,  8.57706615e-01, -1.55279267e+00,\n",
       "        8.81060364e-01,  3.52626754e-01, -1.10266781e+00,  2.98486571e-01,\n",
       "       -3.88349925e-01,  3.64418608e-01, -1.02179129e+00,  5.07776426e-01,\n",
       "        1.83670195e+00, -1.35901360e-01, -1.14603089e+00, -5.99705355e-02,\n",
       "        8.08686549e-01,  5.97621228e-01,  9.21025391e-01,  1.20038215e+00,\n",
       "       -9.02958495e-01, -9.51186551e-01,  5.67444617e-02,  1.23095236e+00,\n",
       "        4.34263688e-01,  1.09825455e+00,  1.28661982e+00,  1.65513338e-01,\n",
       "        1.18124269e+00,  1.08116046e+00,  2.43916641e-01, -1.71089723e-01,\n",
       "       -4.29521453e-01, -9.53705473e-01,  7.82416404e-01,  5.35420562e-01,\n",
       "       -3.37067762e-01, -6.39026504e-01,  3.87163541e-01, -8.57734024e-01,\n",
       "       -1.13548482e+00, -1.20407529e+00,  8.77588455e-01,  1.00494530e+00,\n",
       "        1.14577718e+00, -2.71021616e-02,  2.72744767e+00,  2.73690700e-01,\n",
       "        7.88972233e-01, -1.23710000e+00, -5.30960212e-01,  1.85267864e-01,\n",
       "        9.34691755e-02, -2.86336799e-01,  6.04857190e-01, -2.51936017e-01,\n",
       "        8.99130290e-01,  1.60788687e+00, -1.30106516e+00,  7.60125909e-01,\n",
       "       -1.22183622e+00, -7.79819657e-01,  4.07166717e-01, -2.05484551e-01,\n",
       "        6.26245637e-01, -1.77946936e+00,  1.20633872e+00, -5.41069443e-01,\n",
       "        8.74888296e-01,  1.43878255e+00,  5.84929595e-01, -6.88067557e-01,\n",
       "        3.03054120e-01,  7.10998331e-01, -3.25588793e-01, -1.45843922e+00,\n",
       "       -9.54314824e-01,  1.71715607e-01, -9.64179709e-01,  6.90692086e-02,\n",
       "       -8.50841186e-02, -3.43870735e-01, -6.18822776e-01,  3.90241258e-01,\n",
       "       -1.85025630e+00, -9.02633482e-01, -9.24026186e-01, -2.17913709e-01,\n",
       "        5.70464015e-01,  1.08900077e-01,  5.59673958e-01, -1.46239779e+00,\n",
       "       -7.28027603e-01, -1.97059065e-02,  1.57253737e+00, -3.51207906e-01,\n",
       "       -6.70892566e-01, -1.70138242e+00,  1.38920449e-01,  1.22239055e+00,\n",
       "       -5.00630413e-01, -4.11278630e-01,  9.63006888e-01,  9.91581036e-01,\n",
       "        5.54765988e-01,  5.26704427e-01,  1.47754156e-01,  1.53632832e+00,\n",
       "       -5.40797102e-01,  2.02794571e+00, -2.61308832e-02,  1.68419526e+00,\n",
       "       -5.24772291e-01, -1.42496895e-01, -1.08414590e+00,  3.92497736e-01,\n",
       "       -4.21149919e-01,  1.27006939e+00, -1.44768683e+00, -9.19320177e-01,\n",
       "       -1.90770848e+00, -1.01657666e+00, -1.59356342e+00,  1.21511746e-01,\n",
       "       -3.74772260e-01,  9.85533747e-01, -6.06691015e-01,  3.05357348e-01,\n",
       "       -3.56698918e-01, -3.09552236e-01, -7.41335080e-01,  4.40304765e-01,\n",
       "        4.97128853e-01,  2.42534992e-01,  5.37880560e-01, -1.43812208e+00,\n",
       "        3.97652520e-01,  1.18865984e+00, -1.15946375e+00,  8.24159763e-01,\n",
       "        1.72279224e-01, -3.53175404e-01,  7.83792920e-01,  4.64739166e-01,\n",
       "       -2.31436979e-01, -2.16597467e-01,  2.23359021e-01,  1.53341468e-01,\n",
       "        7.20659055e-01,  6.31268916e-01,  4.85397180e-01, -1.24002205e+00,\n",
       "        8.92360216e-02,  5.00803203e-01,  7.74610011e-01,  7.89466164e-01,\n",
       "        7.54339611e-01,  3.14803792e-01, -1.79262845e+00, -2.47844898e+00,\n",
       "        1.10234734e+00,  4.77169899e-01, -5.56723063e-01,  3.01151535e-01,\n",
       "        7.84316821e-01,  6.12162978e-01,  2.66200877e-01, -7.99968211e-01,\n",
       "       -1.80120436e+00,  2.72424287e+00, -2.15939098e-01, -5.05549662e-01,\n",
       "        1.08425158e+00, -1.08064325e+00, -4.55394214e-01, -1.41639411e+00,\n",
       "       -5.86202954e-02,  1.37128945e+00, -4.19967311e-01, -1.13376080e+00,\n",
       "        8.53580175e-01, -1.36900108e+00,  4.84094522e-01,  1.12526394e+00,\n",
       "       -2.46651712e+00, -1.79846391e-02, -7.84697073e-01, -8.92228899e-01,\n",
       "       -8.93592579e-01, -1.89552903e+00,  2.43520758e+00, -8.89638596e-01,\n",
       "        1.80573305e+00, -1.41617079e+00,  7.44430600e-01, -2.72803705e-01,\n",
       "        1.51541058e+00, -1.10811034e+00, -1.31326998e+00, -5.06362310e-01,\n",
       "        8.26458419e-01, -1.61196033e+00, -1.34642695e-01, -8.66063159e-02,\n",
       "       -1.08172208e-01,  7.18353095e-01, -1.01679201e+00, -9.65204397e-01,\n",
       "       -2.66265191e-01, -7.24121044e-01,  4.51145105e-01,  1.41025375e+00,\n",
       "       -1.37864994e+00, -1.31912160e-01, -7.36679007e-01,  4.21259973e-01,\n",
       "       -1.60230585e-01,  8.44768788e-01,  1.66226402e+00, -1.32693967e+00,\n",
       "       -8.37512413e-01, -1.32641324e-01, -6.55210070e-01,  4.24079343e-01,\n",
       "       -5.62240046e-01,  1.63327845e-01, -9.05085906e-02,  3.03381604e-01,\n",
       "        6.75949773e-01, -1.67287510e-01, -1.22325390e+00, -4.99256989e-01,\n",
       "       -1.41442903e+00, -1.14504187e-01,  1.79270527e+00, -1.82385062e-01,\n",
       "        9.27598727e-02,  2.02834635e-01,  9.03428162e-01,  1.09459478e+00,\n",
       "       -1.65561355e+00,  1.69925097e-01,  1.04018034e+00, -5.50667418e-01,\n",
       "        5.76693254e-01, -5.02655936e-02, -1.11270843e+00,  1.94359474e+00,\n",
       "       -2.06625408e+00,  3.76037546e-01, -2.19185483e-01,  5.49598810e-01,\n",
       "       -8.85237084e-01,  3.22589620e-01, -4.49772006e-01,  7.90567434e-01,\n",
       "        1.69007414e+00,  2.18961133e-01, -1.75107677e+00, -1.39271407e-01,\n",
       "        1.14488912e+00,  6.53498548e-01,  6.93480475e-01, -5.66989288e-01,\n",
       "        2.96762520e+00,  5.16867094e-01, -7.51150297e-01, -4.48441447e-01,\n",
       "       -2.40196971e-01,  1.21609736e+00, -6.39031300e-01,  6.53241652e-01,\n",
       "        2.15448333e+00,  1.31162075e+00,  3.43337323e-01, -1.68399635e-01,\n",
       "       -1.50668569e+00, -1.28987242e+00,  6.23594371e-01, -1.48883746e+00,\n",
       "       -7.08836716e-01,  1.51448516e+00,  1.06746160e+00,  5.01924094e-02,\n",
       "        8.85317032e-01, -8.30733467e-01,  8.69001811e-01, -9.77043538e-01,\n",
       "        3.16611144e-01,  5.03785408e-01, -5.37272875e-01,  1.74419834e-02,\n",
       "        7.06204275e-01,  1.49719819e+00, -8.65091698e-01,  4.01245365e-01,\n",
       "        1.32917411e+00,  5.60301855e-02,  7.73047317e-01, -3.96510607e-01,\n",
       "       -5.73221950e-01, -1.77442388e+00,  1.19771737e+00, -5.53415949e-01,\n",
       "       -2.68685393e-01,  9.91944683e-01,  3.32090953e-01, -1.10192156e+00,\n",
       "        4.08307617e-01,  2.48180671e+00,  2.12085331e-01,  4.52804713e-01,\n",
       "        7.35946130e-01,  1.03015681e-02, -2.87244720e+00, -5.90843668e-01,\n",
       "        6.48868965e-01,  3.53449550e-01, -8.15896420e-02, -5.95780230e-01,\n",
       "        2.53009740e-01,  5.38341447e-02, -9.74292926e-01,  1.67631332e-01,\n",
       "       -8.24990028e-01,  4.73816777e-02, -6.18360999e-01,  3.60769554e-01,\n",
       "        8.43426823e-01,  7.51499836e-01, -4.08092995e-02, -7.60521146e-01,\n",
       "       -1.48239335e+00, -3.09325198e-01, -1.17651018e+00,  5.67676187e-01,\n",
       "       -1.32831891e+00,  4.10773103e-01, -1.80366894e-01, -1.58233077e+00,\n",
       "       -9.86136109e-01,  1.07627755e-01,  7.18803690e-01, -6.48818535e-01,\n",
       "        1.53309936e+00, -1.15219932e+00,  6.67891369e-01,  5.65176413e-01,\n",
       "        7.13115324e-01, -7.91847398e-01, -3.80618423e-01,  7.07774773e-01,\n",
       "       -1.51215729e+00, -1.47258527e-01, -1.15153379e+00,  2.21073749e-01,\n",
       "        2.78741269e-01, -5.48101440e-01,  6.62979739e-01,  1.16987677e+00,\n",
       "       -8.17684340e-01,  1.55485431e+00, -7.79314582e-02, -8.49836354e-01,\n",
       "        3.75917953e-01,  7.73574690e-01,  1.27917393e+00, -7.43930557e-01,\n",
       "       -5.61129626e-01,  9.16096090e-01,  1.24870099e-01, -3.23733098e-02,\n",
       "       -2.60006832e+00,  8.65297818e-01,  5.02980353e-01,  1.90591294e-02,\n",
       "       -1.47006883e+00, -6.07004480e-01, -5.92396176e-01,  2.12130485e+00,\n",
       "       -2.02604945e+00, -2.03482474e+00, -3.15429880e-01,  3.05096344e-01,\n",
       "        1.18897521e-01, -6.53054760e-02,  1.41680596e+00,  8.70479905e-01,\n",
       "       -1.42433146e+00,  2.21468296e+00,  2.68784997e+00,  1.05803354e+00,\n",
       "        4.65227490e-01,  9.28317038e-01, -4.59002883e-01,  9.85925889e-01,\n",
       "       -7.80160860e-02, -2.22508607e+00, -2.95275089e-01,  8.41239207e-01,\n",
       "        1.82499919e-01, -6.70390525e-01,  3.29426998e-01,  1.81576174e-01,\n",
       "        4.75636952e-02,  2.66885779e-01,  4.24573054e-03, -1.40919194e-01,\n",
       "        9.40507212e-01,  1.55662434e+00,  8.42515012e-01, -4.56403395e-01,\n",
       "        1.55325374e+00, -1.09027520e+00,  8.98319785e-01, -1.03306441e+00,\n",
       "        6.48099687e-01, -9.99014973e-01,  1.27615670e+00, -3.81791117e-01,\n",
       "        7.60311125e-01,  8.65581001e-01,  7.42573472e-01,  5.45047782e-01,\n",
       "        1.35805069e+00, -7.70477902e-01, -1.22376158e-01, -1.74473676e-02,\n",
       "       -2.47753149e-01,  5.89639430e-04, -1.67722168e+00,  2.37292868e-01,\n",
       "       -6.12971878e-02,  1.23871351e+00, -5.33779563e-02, -5.64911989e-01,\n",
       "       -6.35455598e-01,  7.17134415e-01,  8.02439730e-01, -1.73154140e-03,\n",
       "       -3.07270792e-01, -1.13823034e+00,  3.71366228e-01,  1.06584872e+00,\n",
       "       -5.79759104e-02, -1.98073356e+00,  1.08156982e+00, -4.02853095e-01,\n",
       "        8.96463190e-01,  6.55632902e-01,  5.66535944e-01,  2.09956256e-02,\n",
       "        9.14251098e-01,  4.10274446e-01, -1.12063973e+00, -1.70419793e+00,\n",
       "        9.48472485e-02,  1.44785266e-01,  1.11829765e+00,  8.21404260e-01,\n",
       "       -1.56351363e+00, -9.99175901e-01,  3.17242225e-01, -1.33069623e-01,\n",
       "        3.13951030e-01,  7.75629050e-01, -9.22122229e-01, -7.96332999e-02,\n",
       "       -3.78936299e-01, -1.25743423e+00, -8.70542392e-01, -1.30091355e+00,\n",
       "       -2.68904764e-01, -1.32112543e+00, -9.26656475e-01,  1.13573897e+00,\n",
       "       -8.11438015e-01,  6.97043826e-01,  2.51536566e-01, -1.20663286e+00,\n",
       "       -2.75579276e-01,  1.27697308e+00,  7.84686203e-01,  8.99831510e-01,\n",
       "        1.76144548e+00, -4.47921808e-01, -1.25312744e+00,  6.44915335e-01,\n",
       "        1.02485309e-01,  4.95206447e-01,  7.87784983e-01, -6.25607212e-02,\n",
       "        6.52640862e-01, -1.03446771e+00, -7.84140571e-01,  4.79715394e-01,\n",
       "        9.13122661e-01, -1.26219043e+00, -1.09570964e+00, -2.26770037e+00,\n",
       "        4.82979584e-01, -2.07804980e-02,  7.39543910e-01,  1.93241862e-01,\n",
       "        1.03141316e+00, -8.00398692e-01,  2.44026679e-01, -9.08587871e-01,\n",
       "       -1.74963368e+00,  6.50720995e-01, -3.29372237e-01,  6.47238133e-01,\n",
       "        1.01897166e+00,  3.11468272e-01, -1.49390460e+00,  5.16999138e-01,\n",
       "        1.09753804e+00,  1.47349313e+00, -1.17172512e-01, -3.58306805e-01,\n",
       "       -2.93640860e-01, -1.79364716e+00,  9.27598234e-01, -5.81000159e-01,\n",
       "        5.29897893e-01,  1.40557811e+00, -1.29426143e-01,  9.08642450e-01,\n",
       "       -3.10159458e-01, -2.24133771e+00, -6.27411124e-01,  1.39634855e+00,\n",
       "       -5.27269077e-01,  9.26926845e-02, -5.29756111e-02,  5.82777140e-01,\n",
       "        9.17448450e-01,  9.51204078e-01,  1.03313289e+00, -1.88063604e+00,\n",
       "        1.91235444e+00, -1.37453542e+00, -9.69004811e-01, -1.57564991e-01,\n",
       "        1.55562433e-01, -5.01006010e-01, -2.81067901e-01,  1.04585771e+00,\n",
       "       -4.35628282e-01, -6.75313150e-01,  1.56663881e+00,  1.97680447e+00,\n",
       "       -1.59091521e-02,  9.74703543e-01, -6.23472063e-01,  1.29619267e+00,\n",
       "       -1.06631320e+00, -1.59593407e+00,  1.45809327e+00, -5.93992520e-02,\n",
       "       -4.68355295e-01, -5.47298028e-01,  9.50560217e-01, -1.16190989e+00,\n",
       "       -8.84932023e-01, -3.78573920e-01,  1.61203386e+00,  6.42031490e-01,\n",
       "        1.81970920e+00, -1.27079394e+00, -1.15628187e-02,  4.11720873e-02,\n",
       "       -2.84822627e-01,  9.56110310e-01,  1.35271310e+00,  9.06630085e-01,\n",
       "       -9.88034097e-01,  5.11615153e-01,  1.44281182e+00, -1.85561542e+00,\n",
       "       -6.40399854e-01, -9.51999861e-02,  7.84304604e-01,  1.72600712e+00,\n",
       "       -4.59437445e-01,  1.03211607e+00, -7.20693083e-01, -2.24163710e+00,\n",
       "        5.04860687e-01,  1.20143310e+00, -3.36882754e-01,  2.47391621e+00,\n",
       "       -5.95938046e-01, -1.73832210e-01, -9.25477345e-01, -7.33459986e-01,\n",
       "       -2.37260594e+00, -1.48836222e+00,  6.37932403e-01,  7.54539481e-03,\n",
       "       -9.49248606e-03, -3.38699744e-02, -1.89658474e-01,  1.52076558e+00,\n",
       "       -2.38015473e-01,  2.68121508e-01, -2.11578506e-01, -1.21888014e-01,\n",
       "       -6.99876069e-01,  3.42792714e-01, -1.12140488e+00, -1.19518660e+00,\n",
       "        9.74413641e-01,  8.04785300e-01,  7.52769990e-01,  4.99775534e-01,\n",
       "       -1.97113580e+00, -1.00122135e+00, -3.46243156e-01,  1.65347457e+00,\n",
       "       -1.54688001e+00,  1.58115089e-01, -9.02070387e-01,  6.93679401e-01,\n",
       "       -1.25647745e+00, -1.74700457e+00, -3.21218616e-01,  1.57870745e+00,\n",
       "       -2.03464905e+00,  8.79697028e-01, -1.18180528e+00, -7.21874155e-01,\n",
       "       -2.16134377e-01, -1.43992059e-01, -5.33489574e-01,  5.09314660e-01,\n",
       "       -5.03525041e-01, -2.40097752e-01,  1.87667256e+00,  1.61368697e+00,\n",
       "       -1.43272819e+00, -3.02908556e-01, -4.74969802e-01,  7.71843992e-01,\n",
       "       -4.63395481e-01, -4.81409934e-01, -2.02647586e+00, -4.36200037e-01,\n",
       "       -3.17469698e-02,  1.34555487e+00,  3.86311054e-01,  4.45584590e-01,\n",
       "       -4.28944014e-01, -1.14994119e+00,  1.74719054e+00,  1.22776497e+00,\n",
       "       -5.67721218e-01, -9.35658095e-01,  4.35959296e-01, -5.35266414e-01,\n",
       "       -9.92457180e-01, -1.04921160e+00,  1.09255926e+00, -8.36253935e-01,\n",
       "       -1.79687685e+00, -6.46460873e-01,  2.01719358e+00, -2.20269978e-03,\n",
       "        1.52171647e+00, -6.98509692e-01,  1.91363483e+00, -1.39868316e+00,\n",
       "       -1.03088440e+00,  1.94748189e-02,  1.39057267e+00, -1.71331083e-01,\n",
       "        4.54439071e-01, -3.09234130e-02, -3.02226678e-02, -1.24687877e+00,\n",
       "        8.73733150e-01, -2.67268186e-01, -1.91136516e-01,  3.46656113e-01,\n",
       "       -2.01764621e+00,  4.06330942e-01,  3.87937847e-01,  1.30502621e+00,\n",
       "       -1.64818240e+00,  9.35485672e-01,  1.01690638e+00,  8.98470512e-02,\n",
       "        6.15583641e-01,  1.55463720e+00, -1.49517684e+00, -6.96783480e-01,\n",
       "       -3.94691291e-01,  1.05398940e+00,  2.61361184e+00, -5.57796058e-01,\n",
       "       -3.29784992e-01, -8.54019644e-01,  3.11352396e-01, -2.71674901e-01,\n",
       "       -1.03420045e+00, -4.51495010e-01,  1.77494899e-02,  3.88808369e-01,\n",
       "       -7.18353807e-01,  1.13755387e+00, -2.06492362e-02, -1.18239159e+00,\n",
       "        3.72561031e-01,  2.25876898e+00,  4.75136280e-01, -4.33365974e-01,\n",
       "        1.18432286e+00,  8.50310166e-02, -5.97141336e-01, -3.53711834e-01,\n",
       "        4.94371863e-01,  2.13160902e+00,  8.15812998e-01, -1.60539048e+00,\n",
       "       -1.25039474e-01,  1.63642273e+00, -1.29389845e+00,  2.20099536e+00,\n",
       "        2.95788608e-01, -3.53241907e-01,  3.82802252e-01,  9.32097549e-02,\n",
       "       -1.07011146e+00,  5.38630998e-01,  2.09408702e-01,  2.57071892e-01,\n",
       "        3.12236601e-01,  1.10657858e-01, -8.32790387e-02, -3.01022536e-01,\n",
       "        9.33614814e-01,  6.10128227e-01, -2.31164679e-02,  1.59650759e+00,\n",
       "        1.00949700e+00,  1.04327404e+00,  2.94295993e-01,  1.64686931e-02,\n",
       "        1.09814460e+00,  9.87585267e-01,  1.84116533e-01, -2.24590840e-01])"
      ]
     },
     "execution_count": 26,
     "metadata": {},
     "output_type": "execute_result"
    }
   ],
   "source": [
    "arr = np.random.normal(0,1,1000)\n",
    "arr"
   ]
  },
  {
   "cell_type": "markdown",
   "metadata": {
    "id": "g05ikoz8Ale9"
   },
   "source": [
    "__Uma pequena olhada...__\n",
    "\n",
    "plotando distribuições com o seaborn"
   ]
  },
  {
   "cell_type": "code",
   "execution_count": 27,
   "metadata": {
    "id": "i0zuzLOtAle-"
   },
   "outputs": [
    {
     "data": {
      "text/plain": [
       "<AxesSubplot:ylabel='Count'>"
      ]
     },
     "execution_count": 27,
     "metadata": {},
     "output_type": "execute_result"
    },
    {
     "data": {
      "image/png": "[encoded data removed]",
      "text/plain": [
       "<Figure size 432x288 with 1 Axes>"
      ]
     },
     "metadata": {
      "needs_background": "light"
     },
     "output_type": "display_data"
    }
   ],
   "source": [
    "import seaborn as sns\n",
    "sns.histplot(arr,kde=True)"
   ]
  },
  {
   "cell_type": "markdown",
   "metadata": {},
   "source": [
    "#### Indexação\n",
    "\n",
    "É possível acessar elementos individuais dos arrays pelos **índices**, da mesma forma que fazemos com listas.\n",
    "\n",
    "<img src = \"https://numpy.org/devdocs/_images/np_indexing.png\" />"
   ]
  },
  {
   "cell_type": "code",
   "execution_count": 28,
   "metadata": {},
   "outputs": [
    {
     "data": {
      "text/plain": [
       "2"
      ]
     },
     "execution_count": 28,
     "metadata": {},
     "output_type": "execute_result"
    }
   ],
   "source": [
    "#Índice do máximo\n",
    "\n",
    "import numpy as np\n",
    "a= np.array([1,2,3])\n",
    "a.argmax()"
   ]
  },
  {
   "cell_type": "code",
   "execution_count": 29,
   "metadata": {},
   "outputs": [
    {
     "data": {
      "text/plain": [
       "0"
      ]
     },
     "execution_count": 29,
     "metadata": {},
     "output_type": "execute_result"
    }
   ],
   "source": [
    "a.argmin()"
   ]
  },
  {
   "cell_type": "markdown",
   "metadata": {},
   "source": [
    "#### Trocando o tipo dos dados nas lista com o .astype()"
   ]
  },
  {
   "cell_type": "code",
   "execution_count": 30,
   "metadata": {},
   "outputs": [
    {
     "name": "stdout",
     "output_type": "stream",
     "text": [
      "float64\n",
      "[1.  1.7 2.4 3. ]\n",
      "int64\n",
      "[1 1 2 3]\n"
     ]
    }
   ],
   "source": [
    "arr = np.array([1, 1.7, 2.4, 3.0])\n",
    "\n",
    "print(arr.dtype)\n",
    "print(arr)\n",
    "\n",
    "arr = arr.astype(np.int64)\n",
    "\n",
    "print(arr.dtype)\n",
    "print(arr)"
   ]
  },
  {
   "cell_type": "markdown",
   "metadata": {
    "id": "0BMz-BFGAle-"
   },
   "source": [
    "#### Operações simples\n",
    "\n",
    "É possível fazer operações matemáticas **elemento a elemento** com os arrays, de forma bem simples:"
   ]
  },
  {
   "cell_type": "markdown",
   "metadata": {
    "ExecuteTime": {
     "end_time": "2020-01-04T20:59:48.500686Z",
     "start_time": "2020-01-04T20:59:48.495192Z"
    },
    "id": "qf1oOeYRAle_"
   },
   "source": [
    "Em numpy, as operações básicas (+, -, *, /, ...) funcionam elemento a elemento"
   ]
  },
  {
   "cell_type": "code",
   "execution_count": 31,
   "metadata": {
    "id": "ktCpYNtiAle_"
   },
   "outputs": [],
   "source": [
    "arr = np.array([1, 2, 3, 4])"
   ]
  },
  {
   "cell_type": "code",
   "execution_count": 32,
   "metadata": {},
   "outputs": [
    {
     "data": {
      "text/plain": [
       "array([3, 4, 5, 6])"
      ]
     },
     "execution_count": 32,
     "metadata": {},
     "output_type": "execute_result"
    }
   ],
   "source": [
    "arr + 2"
   ]
  },
  {
   "cell_type": "code",
   "execution_count": 33,
   "metadata": {},
   "outputs": [
    {
     "data": {
      "text/plain": [
       "array([ 1,  4,  9, 16])"
      ]
     },
     "execution_count": 33,
     "metadata": {},
     "output_type": "execute_result"
    }
   ],
   "source": [
    "arr * arr"
   ]
  },
  {
   "cell_type": "code",
   "execution_count": 34,
   "metadata": {},
   "outputs": [
    {
     "name": "stdout",
     "output_type": "stream",
     "text": [
      "[1 2 3 4]\n",
      "[1 4 6 4]\n"
     ]
    }
   ],
   "source": [
    "print(arr)\n",
    "arr[1:3] = arr[1:3] * 2\n",
    "print(arr)"
   ]
  },
  {
   "cell_type": "markdown",
   "metadata": {
    "id": "lhy4FTjLAle_"
   },
   "source": [
    "#### Funções de Agregação"
   ]
  },
  {
   "cell_type": "code",
   "execution_count": 35,
   "metadata": {},
   "outputs": [],
   "source": [
    "arr = np.array([15, 10, -5, 50, 60, 25])"
   ]
  },
  {
   "cell_type": "markdown",
   "metadata": {
    "id": "aXq3OBo1AlfA"
   },
   "source": [
    "Maior valor"
   ]
  },
  {
   "cell_type": "code",
   "execution_count": 36,
   "metadata": {
    "id": "Y05TMVtpAlfA"
   },
   "outputs": [
    {
     "data": {
      "text/plain": [
       "60"
      ]
     },
     "execution_count": 36,
     "metadata": {},
     "output_type": "execute_result"
    }
   ],
   "source": [
    "arr.max()"
   ]
  },
  {
   "cell_type": "markdown",
   "metadata": {
    "id": "UkxkQMwJAlfB"
   },
   "source": [
    "Indice do elemento máximo"
   ]
  },
  {
   "cell_type": "code",
   "execution_count": 37,
   "metadata": {
    "id": "s5nMnja8AlfB"
   },
   "outputs": [
    {
     "data": {
      "text/plain": [
       "4"
      ]
     },
     "execution_count": 37,
     "metadata": {},
     "output_type": "execute_result"
    }
   ],
   "source": [
    "arr.argmax()"
   ]
  },
  {
   "cell_type": "markdown",
   "metadata": {
    "id": "1gGJsJIDAlfC"
   },
   "source": [
    "Menor valor"
   ]
  },
  {
   "cell_type": "code",
   "execution_count": 38,
   "metadata": {
    "id": "2jxK7PT4AlfC"
   },
   "outputs": [
    {
     "data": {
      "text/plain": [
       "-5"
      ]
     },
     "execution_count": 38,
     "metadata": {},
     "output_type": "execute_result"
    }
   ],
   "source": [
    "arr.min()"
   ]
  },
  {
   "cell_type": "markdown",
   "metadata": {
    "id": "UT03kBkJAlfD"
   },
   "source": [
    "Indice do elemento minimo"
   ]
  },
  {
   "cell_type": "code",
   "execution_count": 39,
   "metadata": {
    "id": "DgpLf7C3AlfE"
   },
   "outputs": [
    {
     "data": {
      "text/plain": [
       "2"
      ]
     },
     "execution_count": 39,
     "metadata": {},
     "output_type": "execute_result"
    }
   ],
   "source": [
    "arr.argmin()"
   ]
  },
  {
   "cell_type": "markdown",
   "metadata": {
    "id": "bm_CtkBbAlfE"
   },
   "source": [
    "Soma de todos os items"
   ]
  },
  {
   "cell_type": "code",
   "execution_count": 40,
   "metadata": {
    "id": "dUGBJAddAlfF"
   },
   "outputs": [
    {
     "data": {
      "text/plain": [
       "155"
      ]
     },
     "execution_count": 40,
     "metadata": {},
     "output_type": "execute_result"
    }
   ],
   "source": [
    "arr.sum()"
   ]
  },
  {
   "cell_type": "markdown",
   "metadata": {
    "id": "fws255gvAlfF"
   },
   "source": [
    "Media dos elementos"
   ]
  },
  {
   "cell_type": "code",
   "execution_count": 41,
   "metadata": {
    "id": "gCvjToR2AlfG"
   },
   "outputs": [
    {
     "data": {
      "text/plain": [
       "25.833333333333332"
      ]
     },
     "execution_count": 41,
     "metadata": {},
     "output_type": "execute_result"
    }
   ],
   "source": [
    "arr.mean()"
   ]
  },
  {
   "cell_type": "markdown",
   "metadata": {
    "id": "7jZfnvnWAlfG"
   },
   "source": [
    "Desvio padrão"
   ]
  },
  {
   "cell_type": "code",
   "execution_count": 42,
   "metadata": {
    "id": "6BnNAQSoAlfG"
   },
   "outputs": [
    {
     "data": {
      "text/plain": [
       "22.623119934163714"
      ]
     },
     "execution_count": 42,
     "metadata": {},
     "output_type": "execute_result"
    }
   ],
   "source": [
    "arr.std()"
   ]
  },
  {
   "cell_type": "markdown",
   "metadata": {
    "id": "RlEERJI-AlfH"
   },
   "source": [
    "Ordenar a lista"
   ]
  },
  {
   "cell_type": "code",
   "execution_count": 43,
   "metadata": {
    "id": "aus88MK-AlfH"
   },
   "outputs": [
    {
     "name": "stdout",
     "output_type": "stream",
     "text": [
      "[15 10 -5 50 60 25]\n",
      "[-5 10 15 25 50 60]\n"
     ]
    }
   ],
   "source": [
    "arr = np.array([15, 10, -5, 50, 60, 25])\n",
    "print(arr)\n",
    "arr.sort()\n",
    "print(arr)"
   ]
  },
  {
   "cell_type": "code",
   "execution_count": 44,
   "metadata": {},
   "outputs": [
    {
     "name": "stdout",
     "output_type": "stream",
     "text": [
      "[15 10 -5 50 60 25]\n",
      "[-5 10 15 25 50 60]\n",
      "[15 10 -5 50 60 25]\n"
     ]
    }
   ],
   "source": [
    "#Ordena sem alterar o original\n",
    "arr = np.array([15, 10, -5, 50, 60, 25])\n",
    "print(arr)\n",
    "print(np.sort(arr))\n",
    "print(arr)"
   ]
  },
  {
   "cell_type": "markdown",
   "metadata": {},
   "source": [
    "#### Filtrando Dados\n",
    "\n",
    "Uma das funções mais importantes do numpy é a possibilidade de construção de **filtros**, que também são chamados de **máscaras**\n",
    "\n",
    "O objetivo dos filtros é **selecionar apenas os elementos de um array que satisfaçam determinada condição**"
   ]
  },
  {
   "cell_type": "markdown",
   "metadata": {},
   "source": [
    "Ao usar um **operador lógico** juntamente com um array, o numpy **aplica a operação lógica a cada um dos elementos do array**, retornando um **array de bools** com o resultado de cada uma das operações lógicas:"
   ]
  },
  {
   "cell_type": "markdown",
   "metadata": {},
   "source": [
    "Quais elementos do array são menores que um dado valor?"
   ]
  },
  {
   "cell_type": "code",
   "execution_count": 45,
   "metadata": {},
   "outputs": [
    {
     "data": {
      "text/plain": [
       "array([ True,  True,  True, False, False, False])"
      ]
     },
     "execution_count": 45,
     "metadata": {},
     "output_type": "execute_result"
    }
   ],
   "source": [
    "arr = np.array([15, 10, -5, 50, 60, 25])\n",
    "\n",
    "arr < 20"
   ]
  },
  {
   "cell_type": "code",
   "execution_count": 46,
   "metadata": {},
   "outputs": [
    {
     "data": {
      "text/plain": [
       "array([False, False, False,  True,  True,  True])"
      ]
     },
     "execution_count": 46,
     "metadata": {},
     "output_type": "execute_result"
    }
   ],
   "source": [
    "~(arr < 20)"
   ]
  },
  {
   "cell_type": "markdown",
   "metadata": {},
   "source": [
    "Quantos elementos são maiores que um dado valor?"
   ]
  },
  {
   "cell_type": "code",
   "execution_count": 47,
   "metadata": {},
   "outputs": [
    {
     "data": {
      "text/plain": [
       "array([False, False, False,  True,  True,  True])"
      ]
     },
     "execution_count": 47,
     "metadata": {},
     "output_type": "execute_result"
    }
   ],
   "source": [
    "arr > 20"
   ]
  },
  {
   "cell_type": "markdown",
   "metadata": {},
   "source": [
    "Uma vez criado o filtro, é possível **utilizá-lo como indexador do array**, para selecionar **apenas os elementos com indice correspondente a True no filtro**"
   ]
  },
  {
   "cell_type": "code",
   "execution_count": 48,
   "metadata": {},
   "outputs": [
    {
     "data": {
      "text/plain": [
       "array([15, 10, -5])"
      ]
     },
     "execution_count": 48,
     "metadata": {},
     "output_type": "execute_result"
    }
   ],
   "source": [
    "arr[(arr < 20)]"
   ]
  },
  {
   "cell_type": "code",
   "execution_count": 49,
   "metadata": {},
   "outputs": [
    {
     "data": {
      "text/plain": [
       "array([50, 60, 25])"
      ]
     },
     "execution_count": 49,
     "metadata": {},
     "output_type": "execute_result"
    }
   ],
   "source": [
    "arr[~(arr < 20)]"
   ]
  },
  {
   "cell_type": "markdown",
   "metadata": {},
   "source": [
    "Também é possível aplicar **filtros compostos**!\n",
    "\n",
    "Pra fazer isso, nós fazems uma **composição lógica** entre os filtros (análogo ao \"and\" e ao \"or\")\n",
    "\n",
    "No caso de arrays, usamos:\n",
    "\n",
    "- \"&\" para \"and\"\n",
    "- \"|\" para \"or\"\n",
    "- \"~\" para \"not\""
   ]
  },
  {
   "cell_type": "code",
   "execution_count": 50,
   "metadata": {},
   "outputs": [
    {
     "name": "stdout",
     "output_type": "stream",
     "text": [
      "[15 10 -5 50 60 25]\n"
     ]
    }
   ],
   "source": [
    "print(arr)"
   ]
  },
  {
   "cell_type": "code",
   "execution_count": 51,
   "metadata": {},
   "outputs": [
    {
     "data": {
      "text/plain": [
       "array([10])"
      ]
     },
     "execution_count": 51,
     "metadata": {},
     "output_type": "execute_result"
    }
   ],
   "source": [
    "arr[(arr < 20) & (arr % 2 == 0)]"
   ]
  },
  {
   "cell_type": "markdown",
   "metadata": {},
   "source": [
    "[np.where](https://numpy.org/doc/stable/reference/generated/numpy.where.html)"
   ]
  },
  {
   "cell_type": "code",
   "execution_count": 52,
   "metadata": {},
   "outputs": [
    {
     "data": {
      "text/plain": [
       "array([225,  10,  25,  50,  60, 625])"
      ]
     },
     "execution_count": 52,
     "metadata": {},
     "output_type": "execute_result"
    }
   ],
   "source": [
    "np.where(arr % 2 == 0, arr, arr**2)"
   ]
  },
  {
   "cell_type": "code",
   "execution_count": 53,
   "metadata": {},
   "outputs": [
    {
     "data": {
      "text/plain": [
       "array([  15,  100,   25, 2500,   60,   25])"
      ]
     },
     "execution_count": 53,
     "metadata": {},
     "output_type": "execute_result"
    }
   ],
   "source": [
    "np.where(np.array([1, 0, 0, 0, 1, 1]), arr, arr**2)"
   ]
  },
  {
   "cell_type": "code",
   "execution_count": 54,
   "metadata": {},
   "outputs": [
    {
     "data": {
      "text/plain": [
       "array([nan, inf, nan, inf, inf, nan])"
      ]
     },
     "execution_count": 54,
     "metadata": {},
     "output_type": "execute_result"
    }
   ],
   "source": [
    "np.where(arr % 2 == 0, np.inf, np.nan)"
   ]
  },
  {
   "cell_type": "code",
   "execution_count": 55,
   "metadata": {},
   "outputs": [
    {
     "data": {
      "text/plain": [
       "array([nan, 10., nan, 50., 60., nan])"
      ]
     },
     "execution_count": 55,
     "metadata": {},
     "output_type": "execute_result"
    }
   ],
   "source": [
    "np.where(arr % 2 == 0, arr, np.nan)"
   ]
  },
  {
   "cell_type": "markdown",
   "metadata": {},
   "source": [
    "#### Matrizes\n",
    "\n",
    "Costumamos nos referir às **matrizes** como arrays multidimensionais (i.e., mais de uma dimensão).\n",
    "\n",
    "<img src = \"https://numpy.org/devdocs/_images/np_create_matrix.png\"/>"
   ]
  },
  {
   "cell_type": "code",
   "execution_count": 56,
   "metadata": {},
   "outputs": [
    {
     "data": {
      "text/plain": [
       "array([[1, 2],\n",
       "       [3, 4],\n",
       "       [5, 6]])"
      ]
     },
     "execution_count": 56,
     "metadata": {},
     "output_type": "execute_result"
    }
   ],
   "source": [
    "data = np.array([[1,2],[3,4],[5,6]])\n",
    "data"
   ]
  },
  {
   "cell_type": "markdown",
   "metadata": {},
   "source": [
    "Vamos repetir as operações que aprendemos para descrever um array!"
   ]
  },
  {
   "cell_type": "code",
   "execution_count": 57,
   "metadata": {},
   "outputs": [
    {
     "data": {
      "text/plain": [
       "(3, 2)"
      ]
     },
     "execution_count": 57,
     "metadata": {},
     "output_type": "execute_result"
    }
   ],
   "source": [
    "data.shape"
   ]
  },
  {
   "cell_type": "code",
   "execution_count": 58,
   "metadata": {},
   "outputs": [
    {
     "data": {
      "text/plain": [
       "2"
      ]
     },
     "execution_count": 58,
     "metadata": {},
     "output_type": "execute_result"
    }
   ],
   "source": [
    "data.ndim"
   ]
  },
  {
   "cell_type": "code",
   "execution_count": 59,
   "metadata": {},
   "outputs": [
    {
     "data": {
      "text/plain": [
       "dtype('int32')"
      ]
     },
     "execution_count": 59,
     "metadata": {},
     "output_type": "execute_result"
    }
   ],
   "source": [
    "data.dtype"
   ]
  },
  {
   "cell_type": "code",
   "execution_count": 60,
   "metadata": {},
   "outputs": [
    {
     "data": {
      "text/plain": [
       "6"
      ]
     },
     "execution_count": 60,
     "metadata": {},
     "output_type": "execute_result"
    }
   ],
   "source": [
    "data.size"
   ]
  },
  {
   "cell_type": "markdown",
   "metadata": {},
   "source": [
    "Vamos aprender um função nova para mudar o formato da matriz"
   ]
  },
  {
   "cell_type": "markdown",
   "metadata": {},
   "source": [
    "[numpy.reshape](https://numpy.org/doc/stable/reference/generated/numpy.reshape.html)\n",
    "\n",
    "Em algumas situações, pode ser útil **reformatar** nosso conjunto de dados. Para isso, utilizamos a função *.reshape()*.\n",
    "\n",
    "**Atenção:** ao utilizar o reshape, o número de elementos total nunca pode ser alterado!\n",
    "\n",
    "<img src = \"https://numpy.org/devdocs/_images/np_reshape.png\" />"
   ]
  },
  {
   "cell_type": "code",
   "execution_count": 61,
   "metadata": {},
   "outputs": [
    {
     "name": "stdout",
     "output_type": "stream",
     "text": [
      "[1 2 3 4]\n",
      "[[1 2]\n",
      " [3 4]]\n"
     ]
    }
   ],
   "source": [
    "arr = np.array([1, 2, 3, 4])\n",
    "print(arr)\n",
    "arr2 = arr.reshape((2,2))\n",
    "print(arr2)"
   ]
  },
  {
   "cell_type": "markdown",
   "metadata": {},
   "source": [
    "#### Indexação de matrizes\n",
    "\n",
    "<img src = \"https://numpy.org/devdocs/_images/np_matrix_indexing.png\" />"
   ]
  },
  {
   "cell_type": "code",
   "execution_count": 62,
   "metadata": {},
   "outputs": [
    {
     "data": {
      "text/plain": [
       "4"
      ]
     },
     "execution_count": 62,
     "metadata": {},
     "output_type": "execute_result"
    }
   ],
   "source": [
    "arr2[1, 1]"
   ]
  },
  {
   "cell_type": "code",
   "execution_count": 63,
   "metadata": {},
   "outputs": [
    {
     "data": {
      "text/plain": [
       "array([[1, 2],\n",
       "       [3, 4],\n",
       "       [5, 6]])"
      ]
     },
     "execution_count": 63,
     "metadata": {},
     "output_type": "execute_result"
    }
   ],
   "source": [
    "data"
   ]
  },
  {
   "cell_type": "code",
   "execution_count": 64,
   "metadata": {},
   "outputs": [
    {
     "data": {
      "text/plain": [
       "array([[1, 2],\n",
       "       [3, 4]])"
      ]
     },
     "execution_count": 64,
     "metadata": {},
     "output_type": "execute_result"
    }
   ],
   "source": [
    "data[:2, 0:2]"
   ]
  },
  {
   "cell_type": "markdown",
   "metadata": {},
   "source": [
    "#### Agregações"
   ]
  },
  {
   "cell_type": "code",
   "execution_count": 65,
   "metadata": {},
   "outputs": [
    {
     "data": {
      "text/plain": [
       "array([[1, 2],\n",
       "       [5, 3],\n",
       "       [4, 6]])"
      ]
     },
     "execution_count": 65,
     "metadata": {},
     "output_type": "execute_result"
    }
   ],
   "source": [
    "data = np.array([[1,2],[5,3],[4,6]])\n",
    "data"
   ]
  },
  {
   "cell_type": "markdown",
   "metadata": {},
   "source": [
    "\n",
    "\n",
    "<img src = \"https://numpy.org/devdocs/_images/np_matrix_aggregation.png\" />"
   ]
  },
  {
   "cell_type": "markdown",
   "metadata": {},
   "source": [
    "Também podemos ter situações em que gostaríamos de **agregar por linhas e/ou colunas**, o que também é possível, especificando o parâmetro *axis*, conforme abaixo.\n",
    "\n",
    "<img src = \"https://numpy.org/devdocs/_images/np_matrix_aggregation_row.png\" />"
   ]
  },
  {
   "cell_type": "markdown",
   "metadata": {},
   "source": [
    "\"axis = 0\" opera na direção das colunas, avaliando entre linhas"
   ]
  },
  {
   "cell_type": "code",
   "execution_count": 66,
   "metadata": {},
   "outputs": [
    {
     "data": {
      "text/plain": [
       "array([5, 6])"
      ]
     },
     "execution_count": 66,
     "metadata": {},
     "output_type": "execute_result"
    }
   ],
   "source": [
    "data.max(axis=0)"
   ]
  },
  {
   "cell_type": "markdown",
   "metadata": {},
   "source": [
    "\"axis = 1\" opera na direção das linhas, avaliando entre colunas"
   ]
  },
  {
   "cell_type": "code",
   "execution_count": 67,
   "metadata": {},
   "outputs": [
    {
     "data": {
      "text/plain": [
       "array([2, 5, 6])"
      ]
     },
     "execution_count": 67,
     "metadata": {},
     "output_type": "execute_result"
    }
   ],
   "source": [
    "data.max(axis=1)"
   ]
  },
  {
   "cell_type": "markdown",
   "metadata": {},
   "source": [
    "#### Operações com matrizes"
   ]
  },
  {
   "cell_type": "markdown",
   "metadata": {},
   "source": [
    "Operações Elemetares (+, -, *, /)\n",
    "\n",
    "<img src=\"https://numpy.org/devdocs/_images/np_matrix_arithmetic.png\" />\n",
    "\n",
    "Diferentemente com arrays unidimensionais, conseguimos operar com matriz de tamanhos diferentes, **desde que sejam essencialmente um vetor-linha ou um vetor-coluna**.\n",
    "\n",
    "<img src = \"https://numpy.org/devdocs/_images/np_matrix_broadcasting.png\" />"
   ]
  },
  {
   "cell_type": "markdown",
   "metadata": {},
   "source": [
    "Multiplicação de Matrizes \"tradicional\"\n",
    "\n",
    "[numpy.dot](https://numpy.org/doc/stable/reference/generated/numpy.dot.html)"
   ]
  },
  {
   "cell_type": "code",
   "execution_count": 68,
   "metadata": {},
   "outputs": [
    {
     "name": "stdout",
     "output_type": "stream",
     "text": [
      "[[ 2.43758471]\n",
      " [-1.8180268 ]]\n",
      "[[-1.19846889]\n",
      " [ 6.73384317]\n",
      " [-1.15782194]]\n"
     ]
    }
   ],
   "source": [
    "data2 = np.random.normal(1, 3, 2).reshape((2,1))\n",
    "print(data2)\n",
    "\n",
    "print(data.dot(data2))"
   ]
  },
  {
   "cell_type": "markdown",
   "metadata": {},
   "source": [
    "Transposição de Matrizes\n",
    "\n",
    "Transpor a matriz equivale a \"trocar\" as linhas pelas colunas.\n",
    "\n",
    "[numpy.transpose](https://numpy.org/doc/stable/reference/generated/numpy.transpose.html)\n",
    "\n",
    "[numpy.ndarray.T](https://numpy.org/doc/stable/reference/generated/numpy.ndarray.T.html)\n",
    "\n",
    "<img src = \"https://numpy.org/devdocs/_images/np_transposing_reshaping.png\" />"
   ]
  },
  {
   "cell_type": "code",
   "execution_count": 69,
   "metadata": {},
   "outputs": [
    {
     "data": {
      "text/plain": [
       "array([[1, 2],\n",
       "       [5, 3],\n",
       "       [4, 6]])"
      ]
     },
     "execution_count": 69,
     "metadata": {},
     "output_type": "execute_result"
    }
   ],
   "source": [
    "data"
   ]
  },
  {
   "cell_type": "code",
   "execution_count": 70,
   "metadata": {},
   "outputs": [
    {
     "data": {
      "text/plain": [
       "array([[1, 5, 4],\n",
       "       [2, 3, 6]])"
      ]
     },
     "execution_count": 70,
     "metadata": {},
     "output_type": "execute_result"
    }
   ],
   "source": [
    "data.T"
   ]
  },
  {
   "cell_type": "markdown",
   "metadata": {},
   "source": [
    "#### Filtrando Dados\n",
    "\n",
    "Seguimos a mesma lógica de filtros em arrays unidimensionais, com a particularidade de que estamos lidando, agora, com mais de uma dimensão - e podemos levar isso em consideração."
   ]
  },
  {
   "cell_type": "code",
   "execution_count": 71,
   "metadata": {},
   "outputs": [
    {
     "data": {
      "text/plain": [
       "array([1, 2, 3])"
      ]
     },
     "execution_count": 71,
     "metadata": {},
     "output_type": "execute_result"
    }
   ],
   "source": [
    "data[data < 4]"
   ]
  },
  {
   "cell_type": "markdown",
   "metadata": {},
   "source": [
    "`np.where()` serve pra substituição de dados"
   ]
  },
  {
   "cell_type": "code",
   "execution_count": 72,
   "metadata": {},
   "outputs": [
    {
     "data": {
      "text/plain": [
       "array([[ 1.,  2.],\n",
       "       [nan,  3.],\n",
       "       [nan, nan]])"
      ]
     },
     "execution_count": 72,
     "metadata": {},
     "output_type": "execute_result"
    }
   ],
   "source": [
    "np.where(data < 4, data, np.nan)"
   ]
  },
  {
   "cell_type": "code",
   "execution_count": 73,
   "metadata": {},
   "outputs": [
    {
     "data": {
      "text/plain": [
       "array([['1', '2'],\n",
       "       ['0', '3'],\n",
       "       ['0', '0']], dtype='<U11')"
      ]
     },
     "execution_count": 73,
     "metadata": {},
     "output_type": "execute_result"
    }
   ],
   "source": [
    "np.where(data < 4, data, '0')"
   ]
  },
  {
   "cell_type": "code",
   "execution_count": 74,
   "metadata": {},
   "outputs": [
    {
     "name": "stdout",
     "output_type": "stream",
     "text": [
      "[['1' '2']\n",
      " ['0' '3']\n",
      " ['0' '0']]\n"
     ]
    }
   ],
   "source": [
    "arr2 = np.where(data < 4, data, '0')\n",
    "print(arr2)"
   ]
  },
  {
   "cell_type": "markdown",
   "metadata": {},
   "source": [
    "Testando como o numpy opera indeterminações e divisões por zero."
   ]
  },
  {
   "cell_type": "code",
   "execution_count": 75,
   "metadata": {},
   "outputs": [],
   "source": [
    "arr = np.array([0, 1, np.inf, np.nan])"
   ]
  },
  {
   "cell_type": "code",
   "execution_count": 76,
   "metadata": {},
   "outputs": [
    {
     "name": "stderr",
     "output_type": "stream",
     "text": [
      "C:\\Users\\George Pontes\\AppData\\Local\\Temp\\ipykernel_7536\\1814618347.py:1: RuntimeWarning: divide by zero encountered in true_divide\n",
      "  arr/0 #divisão por zero\n",
      "C:\\Users\\George Pontes\\AppData\\Local\\Temp\\ipykernel_7536\\1814618347.py:1: RuntimeWarning: invalid value encountered in true_divide\n",
      "  arr/0 #divisão por zero\n"
     ]
    },
    {
     "data": {
      "text/plain": [
       "array([nan, inf, inf, nan])"
      ]
     },
     "execution_count": 76,
     "metadata": {},
     "output_type": "execute_result"
    }
   ],
   "source": [
    "arr/0 #divisão por zero"
   ]
  },
  {
   "cell_type": "code",
   "execution_count": 77,
   "metadata": {},
   "outputs": [
    {
     "name": "stderr",
     "output_type": "stream",
     "text": [
      "C:\\Users\\George Pontes\\AppData\\Local\\Temp\\ipykernel_7536\\253983930.py:1: RuntimeWarning: invalid value encountered in true_divide\n",
      "  arr/np.inf #divisão por infinito\n"
     ]
    },
    {
     "data": {
      "text/plain": [
       "array([ 0.,  0., nan, nan])"
      ]
     },
     "execution_count": 77,
     "metadata": {},
     "output_type": "execute_result"
    }
   ],
   "source": [
    "arr/np.inf #divisão por infinito"
   ]
  }
 ],
 "metadata": {
  "colab": {
   "include_colab_link": true,
   "provenance": []
  },
  "kernelspec": {
   "display_name": "Python 3 (ipykernel)",
   "language": "python",
   "name": "python3"
  },
  "language_info": {
   "codemirror_mode": {
    "name": "ipython",
    "version": 3
   },
   "file_extension": ".py",
   "mimetype": "text/x-python",
   "name": "python",
   "nbconvert_exporter": "python",
   "pygments_lexer": "ipython3",
   "version": "3.9.12"
  },
  "vscode": {
   "interpreter": {
    "hash": "38d4061a99e7c6638a090ce08c14a66640e6088dc5ef74a7f33c8fdd952ca81d"
   }
  }
 },
 "nbformat": 4,
 "nbformat_minor": 1
}
